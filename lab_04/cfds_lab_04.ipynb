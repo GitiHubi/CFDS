{
 "cells": [
  {
   "cell_type": "code",
   "execution_count": 1,
   "metadata": {},
   "outputs": [],
   "source": [
    "#-*- coding: utf-8 -*-"
   ]
  },
  {
   "cell_type": "markdown",
   "metadata": {},
   "source": [
    "<img align=\"right\" style=\"max-width: 200px; height: auto\" src=\"images/cfds_logo.png\">\n",
    "\n",
    "###  Lab 04 - \"Unsupervised Machine Learning\"\n",
    "\n",
    "Chartered Financial Data Scientist (CFDS), Spring Term 2019"
   ]
  },
  {
   "cell_type": "markdown",
   "metadata": {},
   "source": [
    "In the third lab you learned about how to utilize two **supervised** learning classification techniques namely (1) the Gaussian Naive-Bayes (Gaussian NB) classifier and (2) the k Nearest-Neighbor (kNN) classifier. \n",
    "\n",
    "In this fourth lab we will learn about an **unsupervised** machine learning technique referred to as **k-Means Clustering**. We will use this technique to classify un-labeled data (i.e., data without defined categories or groups). In general, clustering based techniques are widely used in unsupervised machine learning.\n",
    "\n",
    "The **k-Means Clustering** algorithm is one of the most popular clustering algorithms used in machine learning. The goal of k-Means Clustering is to find groups (clusters) in a given dataset. It can be used (1) to **confirm business assumptions** about what types of groups exist or (2) to **identify unknown groups** in complex data sets. Some examples of business-related use cases are:\n",
    "\n",
    ">- Segment customers by purchase history;\n",
    ">- Segment users by activities on an application or a website;\n",
    ">- Group inventory by sales activity; or,\n",
    ">- Group inventory by manufacturing metrics.\n",
    "\n",
    "(Source: https://www.datascience.com/blog/k-means-clustering)\n",
    "\n",
    "Once the algorithm has been run and the groups are defined, any new data can be easily assigned to the correct group."
   ]
  },
  {
   "cell_type": "markdown",
   "metadata": {},
   "source": [
    "Pls. don't hesitate to contact me (via marco.schreyer@unisg.ch) in case of any difficulties with the lab content or any questions."
   ]
  },
  {
   "cell_type": "markdown",
   "metadata": {},
   "source": [
    "### Lab Objectives:"
   ]
  },
  {
   "cell_type": "markdown",
   "metadata": {},
   "source": [
    "After today's lab you should be able to:\n",
    "\n",
    "> 1. Understand how a **k-Means Clustering** algorithm can be trained and evaluated.\n",
    "> 2. Know how to Python's **sklearn library** to train and evaluate arbitrary classifiers.\n",
    "> 3. Understand how to evaluate the **classification results** of the k-Means algorithm.\n",
    "> 4. Know how to select an **optimal number of clusters** or cluster means."
   ]
  },
  {
   "cell_type": "markdown",
   "metadata": {},
   "source": [
    "### Setup of the Jupyter Notebook Environment"
   ]
  },
  {
   "cell_type": "markdown",
   "metadata": {},
   "source": [
    "Similar to the previous labs, we need to import a couple of Python libraries that allow for data analysis and data visualization. We will be using pandas, numpy, sklearn, matplotlib and seaborn library to conduct this:"
   ]
  },
  {
   "cell_type": "code",
   "execution_count": 2,
   "metadata": {},
   "outputs": [],
   "source": [
    "# import the pandas data science library\n",
    "import pandas as pd\n",
    "import numpy as np\n",
    "\n",
    "# import sklearn data and data pre-processing libraries\n",
    "from sklearn import datasets\n",
    "\n",
    "# import sklearn k-means classifier library\n",
    "from sklearn.cluster import KMeans\n",
    "\n",
    "# import matplotlib data visualization library\n",
    "import matplotlib.pyplot as plt\n",
    "from mpl_toolkits.mplot3d import Axes3D\n",
    "import seaborn as sns"
   ]
  },
  {
   "cell_type": "markdown",
   "metadata": {},
   "source": [
    "Create nice looking plots using the **seaborn** plotting theme:"
   ]
  },
  {
   "cell_type": "code",
   "execution_count": 3,
   "metadata": {},
   "outputs": [],
   "source": [
    "plt.style.use('seaborn')"
   ]
  },
  {
   "cell_type": "markdown",
   "metadata": {},
   "source": [
    "Enable inline Jupyter notebook plotting:"
   ]
  },
  {
   "cell_type": "code",
   "execution_count": 4,
   "metadata": {},
   "outputs": [],
   "source": [
    "%matplotlib inline"
   ]
  },
  {
   "cell_type": "markdown",
   "metadata": {},
   "source": [
    "Suppress potential warnings:"
   ]
  },
  {
   "cell_type": "code",
   "execution_count": 5,
   "metadata": {},
   "outputs": [],
   "source": [
    "import warnings\n",
    "warnings.filterwarnings('ignore')"
   ]
  },
  {
   "cell_type": "markdown",
   "metadata": {},
   "source": [
    "## Unsupervised Machine Learning: k-Means Clustering"
   ]
  },
  {
   "cell_type": "markdown",
   "metadata": {},
   "source": [
    "### Step 1.0: Dataset Download and Data Assessment"
   ]
  },
  {
   "cell_type": "markdown",
   "metadata": {},
   "source": [
    "The iris dataset is a classic and very easy multi-class classification dataset. This data sets consists of 3 different types of irises’ (classes),  namely Setosa, Versicolour, and Virginica) as well as their respective petal and sepal length (features). In total, the dataset consists of **150 samples** (50 samples per class) as well as their corresponding **4 different measurements** taken for each sample. "
   ]
  },
  {
   "cell_type": "markdown",
   "metadata": {},
   "source": [
    "<img align=\"center\" style=\"max-width: 700px; height: auto\" src=\"images/iris_dataset.png\">\n",
    "\n",
    "(Source: http://www.lac.inpe.br/~rafael.santos/Docs/R/CAP394/WholeStory-Iris.html)"
   ]
  },
  {
   "cell_type": "markdown",
   "metadata": {},
   "source": [
    "Please, find below the list of the individual measurements (features):\n",
    "\n",
    ">- `Sepal length (cm)`\n",
    ">- `Sepal width (cm)`\n",
    ">- `Petal length (cm)`\n",
    ">- `Petal width (cm)`\n",
    "\n",
    "Further details on the dataset can be obtained from the following publication: *Fisher, R.A. \"The use of multiple measurements in taxonomic problems\" Annual Eugenics, 7, Part II, 179-188 (1936); also in \"Contributions to Mathematical Statistics\" (John Wiley, NY, 1950).\"*\n",
    "\n",
    "Let's load the dataset and conduct a preliminary data assessment: "
   ]
  },
  {
   "cell_type": "code",
   "execution_count": 6,
   "metadata": {},
   "outputs": [],
   "source": [
    "iris = datasets.load_iris()"
   ]
  },
  {
   "cell_type": "markdown",
   "metadata": {},
   "source": [
    "Print and inspect feature names of the dataset:"
   ]
  },
  {
   "cell_type": "code",
   "execution_count": 7,
   "metadata": {},
   "outputs": [
    {
     "data": {
      "text/plain": [
       "['sepal length (cm)',\n",
       " 'sepal width (cm)',\n",
       " 'petal length (cm)',\n",
       " 'petal width (cm)']"
      ]
     },
     "execution_count": 7,
     "metadata": {},
     "output_type": "execute_result"
    }
   ],
   "source": [
    "iris.feature_names"
   ]
  },
  {
   "cell_type": "markdown",
   "metadata": {},
   "source": [
    "Print and inspect the class names of the dataset:"
   ]
  },
  {
   "cell_type": "code",
   "execution_count": 8,
   "metadata": {},
   "outputs": [
    {
     "data": {
      "text/plain": [
       "array(['setosa', 'versicolor', 'virginica'], dtype='<U10')"
      ]
     },
     "execution_count": 8,
     "metadata": {},
     "output_type": "execute_result"
    }
   ],
   "source": [
    "iris.target_names"
   ]
  },
  {
   "cell_type": "markdown",
   "metadata": {},
   "source": [
    "Print and inspect the top 5 feature rows of the dataset:"
   ]
  },
  {
   "cell_type": "code",
   "execution_count": 9,
   "metadata": {},
   "outputs": [
    {
     "data": {
      "text/html": [
       "<div>\n",
       "<style scoped>\n",
       "    .dataframe tbody tr th:only-of-type {\n",
       "        vertical-align: middle;\n",
       "    }\n",
       "\n",
       "    .dataframe tbody tr th {\n",
       "        vertical-align: top;\n",
       "    }\n",
       "\n",
       "    .dataframe thead th {\n",
       "        text-align: right;\n",
       "    }\n",
       "</style>\n",
       "<table border=\"1\" class=\"dataframe\">\n",
       "  <thead>\n",
       "    <tr style=\"text-align: right;\">\n",
       "      <th></th>\n",
       "      <th>0</th>\n",
       "      <th>1</th>\n",
       "      <th>2</th>\n",
       "      <th>3</th>\n",
       "    </tr>\n",
       "  </thead>\n",
       "  <tbody>\n",
       "    <tr>\n",
       "      <th>0</th>\n",
       "      <td>5.1</td>\n",
       "      <td>3.5</td>\n",
       "      <td>1.4</td>\n",
       "      <td>0.2</td>\n",
       "    </tr>\n",
       "    <tr>\n",
       "      <th>1</th>\n",
       "      <td>4.9</td>\n",
       "      <td>3.0</td>\n",
       "      <td>1.4</td>\n",
       "      <td>0.2</td>\n",
       "    </tr>\n",
       "    <tr>\n",
       "      <th>2</th>\n",
       "      <td>4.7</td>\n",
       "      <td>3.2</td>\n",
       "      <td>1.3</td>\n",
       "      <td>0.2</td>\n",
       "    </tr>\n",
       "    <tr>\n",
       "      <th>3</th>\n",
       "      <td>4.6</td>\n",
       "      <td>3.1</td>\n",
       "      <td>1.5</td>\n",
       "      <td>0.2</td>\n",
       "    </tr>\n",
       "    <tr>\n",
       "      <th>4</th>\n",
       "      <td>5.0</td>\n",
       "      <td>3.6</td>\n",
       "      <td>1.4</td>\n",
       "      <td>0.2</td>\n",
       "    </tr>\n",
       "  </tbody>\n",
       "</table>\n",
       "</div>"
      ],
      "text/plain": [
       "     0    1    2    3\n",
       "0  5.1  3.5  1.4  0.2\n",
       "1  4.9  3.0  1.4  0.2\n",
       "2  4.7  3.2  1.3  0.2\n",
       "3  4.6  3.1  1.5  0.2\n",
       "4  5.0  3.6  1.4  0.2"
      ]
     },
     "execution_count": 9,
     "metadata": {},
     "output_type": "execute_result"
    }
   ],
   "source": [
    "pd.DataFrame(iris.data).head(5)"
   ]
  },
  {
   "cell_type": "markdown",
   "metadata": {},
   "source": [
    "Print and inspect the top 5 labels of the dataset:"
   ]
  },
  {
   "cell_type": "code",
   "execution_count": 10,
   "metadata": {},
   "outputs": [
    {
     "data": {
      "text/html": [
       "<div>\n",
       "<style scoped>\n",
       "    .dataframe tbody tr th:only-of-type {\n",
       "        vertical-align: middle;\n",
       "    }\n",
       "\n",
       "    .dataframe tbody tr th {\n",
       "        vertical-align: top;\n",
       "    }\n",
       "\n",
       "    .dataframe thead th {\n",
       "        text-align: right;\n",
       "    }\n",
       "</style>\n",
       "<table border=\"1\" class=\"dataframe\">\n",
       "  <thead>\n",
       "    <tr style=\"text-align: right;\">\n",
       "      <th></th>\n",
       "      <th>0</th>\n",
       "    </tr>\n",
       "  </thead>\n",
       "  <tbody>\n",
       "    <tr>\n",
       "      <th>0</th>\n",
       "      <td>0</td>\n",
       "    </tr>\n",
       "    <tr>\n",
       "      <th>1</th>\n",
       "      <td>0</td>\n",
       "    </tr>\n",
       "    <tr>\n",
       "      <th>2</th>\n",
       "      <td>0</td>\n",
       "    </tr>\n",
       "    <tr>\n",
       "      <th>3</th>\n",
       "      <td>0</td>\n",
       "    </tr>\n",
       "    <tr>\n",
       "      <th>4</th>\n",
       "      <td>0</td>\n",
       "    </tr>\n",
       "  </tbody>\n",
       "</table>\n",
       "</div>"
      ],
      "text/plain": [
       "   0\n",
       "0  0\n",
       "1  0\n",
       "2  0\n",
       "3  0\n",
       "4  0"
      ]
     },
     "execution_count": 10,
     "metadata": {},
     "output_type": "execute_result"
    }
   ],
   "source": [
    "pd.DataFrame(iris.target).head(5)"
   ]
  },
  {
   "cell_type": "markdown",
   "metadata": {},
   "source": [
    "Determine and print the feature dimensionality of the dataset:"
   ]
  },
  {
   "cell_type": "code",
   "execution_count": 11,
   "metadata": {},
   "outputs": [
    {
     "data": {
      "text/plain": [
       "(150, 4)"
      ]
     },
     "execution_count": 11,
     "metadata": {},
     "output_type": "execute_result"
    }
   ],
   "source": [
    "iris.data.shape"
   ]
  },
  {
   "cell_type": "markdown",
   "metadata": {},
   "source": [
    "Determine and print the label dimensionality of the dataset:"
   ]
  },
  {
   "cell_type": "code",
   "execution_count": 12,
   "metadata": {},
   "outputs": [
    {
     "data": {
      "text/plain": [
       "(150,)"
      ]
     },
     "execution_count": 12,
     "metadata": {},
     "output_type": "execute_result"
    }
   ],
   "source": [
    "iris.target.shape"
   ]
  },
  {
   "cell_type": "markdown",
   "metadata": {},
   "source": [
    "Let's briefly envision how the feature data is collected and recorded in the data:"
   ]
  },
  {
   "cell_type": "markdown",
   "metadata": {},
   "source": [
    "<img align=\"center\" style=\"max-width: 900px; height: auto\" src=\"images/featurecollection.png\">"
   ]
  },
  {
   "cell_type": "markdown",
   "metadata": {},
   "source": [
    "Plot the data distributions of the distinct features:"
   ]
  },
  {
   "cell_type": "code",
   "execution_count": 13,
   "metadata": {},
   "outputs": [
    {
     "data": {
      "text/plain": [
       "<Figure size 720x720 with 0 Axes>"
      ]
     },
     "metadata": {},
     "output_type": "display_data"
    },
    {
     "data": {
      "image/png": "[encoded data removed]",
      "text/plain": [
       "<Figure size 720x720 with 20 Axes>"
      ]
     },
     "metadata": {
      "needs_background": "light"
     },
     "output_type": "display_data"
    }
   ],
   "source": [
    "plt.figure(figsize=(10, 10))\n",
    "iris_plot = sns.load_dataset(\"iris\")\n",
    "\n",
    "# supervised scenario\n",
    "#sns.pairplot(iris_plot, diag_kind='hist', hue='species');\n",
    "\n",
    "# unsupervised scenario\n",
    "sns.pairplot(iris_plot, diag_kind='hist');"
   ]
  },
  {
   "cell_type": "markdown",
   "metadata": {},
   "source": [
    "### Step 1.1. Introduction into k-Means Clustering"
   ]
  },
  {
   "cell_type": "markdown",
   "metadata": {},
   "source": [
    "As already mentioned the **k-Means Clustering** algorithm is one of the most popular \"first choice\" clustering algorithms to find groups (clusters) in a given dataset $X$. Let's now briefly revisit the distinct step of the algorithm before applying it to the iris dataset. \n",
    "\n",
    "<img align=\"center\" style=\"max-width: 400px; height: auto\" src=\"images/kmeans.png\">\n",
    "\n",
    "But before that let's assume:\n",
    "\n",
    "- We have dataset $X$ consisting records $x_1, x_2, x_3, ..., x_n \\in \\mathcal{R}^d$; \n",
    "- That samples are clustered around $k$ centers (the \"$k$ means\") denoted by $\\mu_1, \\mu_{2}, ..., \\mu_{k} \\in \\mathcal{R}^d$; and,\n",
    "- Each sample $x_{i}$ belongs to its closest mean $\\mu_{i}$.\n",
    "\n",
    "We can then iteratively perform the following steps that comprise the **k-Means Clustering** algorithm:\n",
    "\n",
    ">- **Step 1** - Pick $k$ random points $\\mu_{i}$ as cluster centres called 'means'.\n",
    ">- **Step 2** - Assign each $x_i$ to its to nearest cluster mean by calculating its distance to each mean.\n",
    ">- **Step 3** - Determine the new cluster centres by calculating the average of the assigned points in each cluster.\n",
    ">- **Step 4** - Repeat Step 2 and 3 until none of the cluster assignments change.\n",
    "\n",
    "Note, that a single execution of all the four steps outlined above is usually referred to as 'iteration'."
   ]
  },
  {
   "cell_type": "markdown",
   "metadata": {},
   "source": [
    "### Step 1.1.1. k-Means clustering in a 2-Dimensional Feature Space"
   ]
  },
  {
   "cell_type": "markdown",
   "metadata": {},
   "source": [
    "Now, let's see how we can apply it to the iris dataset. We will start with an introductory example of detecting the classes of the iris dataset based on two of its features namely the (1) `Petal length (cm)` and `Petal width (cm)`. Let's first gain an intuition of those two features as well as their distribution by visualizing them accordingly:"
   ]
  },
  {
   "cell_type": "code",
   "execution_count": 14,
   "metadata": {},
   "outputs": [
    {
     "data": {
      "image/png": "[encoded data removed]",
      "text/plain": [
       "<Figure size 432x288 with 1 Axes>"
      ]
     },
     "metadata": {
      "needs_background": "light"
     },
     "output_type": "display_data"
    }
   ],
   "source": [
    "# prepare plot\n",
    "fig = plt.figure()\n",
    "ax = fig.add_subplot(111)\n",
    "\n",
    "# add grid\n",
    "ax.grid(linestyle='dotted')\n",
    "\n",
    "# plot petal length (3rd feature in the dataset) vs. petal width (4th feature in the dataset)\n",
    "ax.scatter(iris.data[:,2], iris.data[:,3])\n",
    "\n",
    "# add axis legends\n",
    "ax.set_xlabel(\"[petal_length]\", fontsize=10)\n",
    "ax.set_ylabel(\"[petal_width]\", fontsize=10)\n",
    "\n",
    "# add plot title\n",
    "plt.title('Petal Length vs. Petal Width', fontsize=10);"
   ]
  },
  {
   "cell_type": "markdown",
   "metadata": {},
   "source": [
    "Let's now define the parameters of the k-Means Clustering. We will start be specifying the number of clusters we aim to detect in the dataset:"
   ]
  },
  {
   "cell_type": "code",
   "execution_count": 15,
   "metadata": {},
   "outputs": [],
   "source": [
    "no_clusters = 3"
   ]
  },
  {
   "cell_type": "markdown",
   "metadata": {},
   "source": [
    "Next, we need to define a corresponding number (in our case 3) random cluster centers or 'means' that will be used in the first iteration of the algorithm:"
   ]
  },
  {
   "cell_type": "code",
   "execution_count": 16,
   "metadata": {},
   "outputs": [],
   "source": [
    "random_means = np.array([[1.0, 3.0], [2.0, 6.0], [1.0, 7.0]])"
   ]
  },
  {
   "cell_type": "markdown",
   "metadata": {},
   "source": [
    "Finally, we will define a maximum number of iterations that we want to run the **k-Means Clustering** algorithm. Please, note that the clustering terminates once there will be no further changes in the cluster assignments. However, it's good practice to define an upper bound:"
   ]
  },
  {
   "cell_type": "code",
   "execution_count": 17,
   "metadata": {},
   "outputs": [],
   "source": [
    "max_iterations = 10"
   ]
  },
  {
   "cell_type": "markdown",
   "metadata": {},
   "source": [
    "Now, we ready to initialize the **k-Means Clustering** algorithm using Python's `sklearn` library of data science algorithms:"
   ]
  },
  {
   "cell_type": "code",
   "execution_count": 18,
   "metadata": {},
   "outputs": [],
   "source": [
    "kmeans = KMeans(n_clusters=no_clusters, init=random_means, max_iter=max_iterations)"
   ]
  },
  {
   "cell_type": "markdown",
   "metadata": {},
   "source": [
    "Train the k-Mains classifier and learn a model of the `Petal length (cm)` and  `Petal width (cm)` features in the iris dataset:"
   ]
  },
  {
   "cell_type": "code",
   "execution_count": 19,
   "metadata": {},
   "outputs": [
    {
     "data": {
      "text/plain": [
       "KMeans(algorithm='auto', copy_x=True,\n",
       "    init=array([[1., 3.],\n",
       "       [2., 6.],\n",
       "       [1., 7.]]), max_iter=10,\n",
       "    n_clusters=3, n_init=10, n_jobs=None, precompute_distances='auto',\n",
       "    random_state=None, tol=0.0001, verbose=0)"
      ]
     },
     "execution_count": 19,
     "metadata": {},
     "output_type": "execute_result"
    }
   ],
   "source": [
    "kmeans.fit(iris.data[:,2:4])"
   ]
  },
  {
   "cell_type": "markdown",
   "metadata": {},
   "source": [
    "Now that we have learned a model of the data, let's inspect the distinct cluster labels that have been assigned to the records of the iris dataset: "
   ]
  },
  {
   "cell_type": "code",
   "execution_count": 20,
   "metadata": {},
   "outputs": [
    {
     "name": "stdout",
     "output_type": "stream",
     "text": [
      "[0 0 0 0 0 0 0 0 0 0 0 0 0 0 0 0 0 0 0 0 0 0 0 0 0 0 0 0 0 0 0 0 0 0 0 0 0\n",
      " 0 0 0 0 0 0 0 0 0 0 0 0 0 2 2 2 2 2 2 2 2 2 2 2 2 2 2 2 2 2 2 2 2 2 2 2 2\n",
      " 2 2 2 1 2 2 2 2 2 1 2 2 2 2 2 2 2 2 2 2 2 2 2 2 2 2 1 1 1 1 1 1 2 1 1 1 1\n",
      " 1 1 1 1 1 1 1 1 2 1 1 1 2 1 1 2 2 1 1 1 1 1 1 1 1 1 1 2 1 1 1 1 1 1 1 1 1\n",
      " 1 1]\n"
     ]
    }
   ],
   "source": [
    "labels = kmeans.labels_\n",
    "print(labels)"
   ]
  },
  {
   "cell_type": "markdown",
   "metadata": {},
   "source": [
    "Furthermore, we want to inspect the coordinates of the cluster centroids assigned by the algorithm:"
   ]
  },
  {
   "cell_type": "code",
   "execution_count": 21,
   "metadata": {},
   "outputs": [
    {
     "name": "stdout",
     "output_type": "stream",
     "text": [
      "[[1.462      0.246     ]\n",
      " [5.63777778 2.06      ]\n",
      " [4.30727273 1.36181818]]\n"
     ]
    }
   ],
   "source": [
    "centers = kmeans.cluster_centers_\n",
    "print(centers)"
   ]
  },
  {
   "cell_type": "markdown",
   "metadata": {},
   "source": [
    "Let's plot the iris dataset records now using the two features `Petal length (cm)`, `Petal width (cm)` and `Petal length (cm)`, their corresponding learned labels as well as the centroids determined by the **k-Means Clustering** algorithm:"
   ]
  },
  {
   "cell_type": "code",
   "execution_count": 22,
   "metadata": {},
   "outputs": [
    {
     "data": {
      "image/png": "[encoded data removed]",
      "text/plain": [
       "<Figure size 432x288 with 1 Axes>"
      ]
     },
     "metadata": {
      "needs_background": "light"
     },
     "output_type": "display_data"
    }
   ],
   "source": [
    "# prepare plot\n",
    "fig = plt.figure()\n",
    "ax = fig.add_subplot(111)\n",
    "\n",
    "# add grid\n",
    "ax.grid(linestyle='dotted')\n",
    "\n",
    "# plot petal length vs. petal width and corresponding classes\n",
    "ax.scatter(iris.data[:,2], iris.data[:,3], c=labels.astype(np.float), cmap=plt.cm.Set1)\n",
    "\n",
    "# plot cluster centers\n",
    "ax.scatter(centers[:,0], centers[:,1], marker='x', c='black', s=100)\n",
    "\n",
    "# add axis legends\n",
    "ax.set_xlabel(\"[petal_length]\", fontsize=10)\n",
    "ax.set_ylabel(\"[petal_width]\", fontsize=10)\n",
    "\n",
    "# add plot title\n",
    "plt.title('Petal Length vs. Petal Width', fontsize=10);"
   ]
  },
  {
   "cell_type": "markdown",
   "metadata": {},
   "source": [
    "In addition, let's inspect the distance of all dataset records $X$ to their nearest means $\\mu_{i}$. Let's recall that k-Means corresponds to a local optimization of the sum of \"squared errors\", as expressed by:\n",
    "\n",
    "\n",
    "$$E(\\mu_{1}, \\mu_{2}, ..., \\mu_{k}) = \\sum_{i=1}^{n}(x_{i}-\\mu_{k(i)})^{2},$$\n",
    "\n",
    "were $x_{i}$ denotes a single observation in the dataset and $\\mu_{k(i)}$ its closest mean in the feature space $\\mathcal{R}^{d}$.\n",
    "\n",
    "We can obtain the sum of those squared distances $E(\\mu_{1}, \\mu_{2}, ..., \\mu_{k})$ by calling the `inertia_` attribute of the k-Means clustering object. It will return the sum of squared distances of each sample to its closest cluster center:"
   ]
  },
  {
   "cell_type": "code",
   "execution_count": 23,
   "metadata": {},
   "outputs": [
    {
     "name": "stdout",
     "output_type": "stream",
     "text": [
      "31.437981063156826\n"
     ]
    }
   ],
   "source": [
    "distances = kmeans.inertia_\n",
    "print(distances)"
   ]
  },
  {
   "cell_type": "markdown",
   "metadata": {},
   "source": [
    "### Exercises:"
   ]
  },
  {
   "cell_type": "markdown",
   "metadata": {},
   "source": [
    "We recommend you try the following exercises as part of the lab:\n",
    "\n",
    "**1. Train and evaluate the k-Means Clustering results and squared distances $E(\\mu_{1}, \\mu_{2}, ..., \\mu_{k})$ for distinct max iterations.**\n",
    "\n",
    "> Continuously increase the number of training iterations $i$ of the k-Means Clustering starting with 1 and up to 5 iterations ($i=1,...,5$) and repeat the clustering accordingly. What can be observed in terms of the cluster means as well as the sum of squared cluster distances with increasing $i$."
   ]
  },
  {
   "cell_type": "markdown",
   "metadata": {},
   "source": [
    "**2. Determine if the k-Mean algorithm always converges to the same results.**\n",
    "\n",
    "> Carefully review the k-Means algorithm and answer the question and answer to following question: Does the k-Means algorithm always converge to the same result? Please, explain your reasoning."
   ]
  },
  {
   "cell_type": "code",
   "execution_count": null,
   "metadata": {},
   "outputs": [],
   "source": []
  },
  {
   "cell_type": "markdown",
   "metadata": {},
   "source": [
    "**3. Applicability k-Means clustering to distinct data distributions.**\n",
    "\n",
    "> Consider the following data distributions. Determine which are suitable for a k-Means clustering and what $k$ value should be applied in the clustering. Please, explain your reasoning.\n",
    "\n",
    "<img align=\"center\" style=\"max-width: 600px; height: auto\" src=\"images/clustering.png\">"
   ]
  },
  {
   "cell_type": "code",
   "execution_count": null,
   "metadata": {},
   "outputs": [],
   "source": []
  },
  {
   "cell_type": "markdown",
   "metadata": {},
   "source": [
    "### Step 1.1.2. k-Means Clustering in a 3-Dimensional Feature Space"
   ]
  },
  {
   "cell_type": "markdown",
   "metadata": {},
   "source": [
    "Enable interactive 3D plotting:"
   ]
  },
  {
   "cell_type": "code",
   "execution_count": 42,
   "metadata": {},
   "outputs": [],
   "source": [
    "%matplotlib notebook\n",
    "from importlib import reload\n",
    "reload(plt)\n",
    "from mpl_toolkits.mplot3d import Axes3D\n",
    "import seaborn as sns"
   ]
  },
  {
   "cell_type": "markdown",
   "metadata": {},
   "source": [
    "We will now extend the k-Means Clustering that you learned about to a 3-dimensional features space by clustering the first three features, namely `Sepal length (cm)`, `Sepal width (cm)` and `Petal length (cm)`, of the Iris dataset. Let's start by visually inspecting the 3-dimensional feature space:"
   ]
  },
  {
   "cell_type": "code",
   "execution_count": 43,
   "metadata": {},
   "outputs": [
    {
     "data": {
      "application/javascript": [
       "/* Put everything inside the global mpl namespace */\n",
       "window.mpl = {};\n",
       "\n",
       "\n",
       "mpl.get_websocket_type = function() {\n",
       "    if (typeof(WebSocket) !== 'undefined') {\n",
       "        return WebSocket;\n",
       "    } else if (typeof(MozWebSocket) !== 'undefined') {\n",
       "        return MozWebSocket;\n",
       "    } else {\n",
       "        alert('Your browser does not have WebSocket support.' +\n",
       "              'Please try Chrome, Safari or Firefox ≥ 6. ' +\n",
       "              'Firefox 4 and 5 are also supported but you ' +\n",
       "              'have to enable WebSockets in about:config.');\n",
       "    };\n",
       "}\n",
       "\n",
       "mpl.figure = function(figure_id, websocket, ondownload, parent_element) {\n",
       "    this.id = figure_id;\n",
       "\n",
       "    this.ws = websocket;\n",
       "\n",
       "    this.supports_binary = (this.ws.binaryType != undefined);\n",
       "\n",
       "    if (!this.supports_binary) {\n",
       "        var warnings = document.getElementById(\"mpl-warnings\");\n",
       "        if (warnings) {\n",
       "            warnings.style.display = 'block';\n",
       "            warnings.textContent = (\n",
       "                \"This browser does not support binary websocket messages. \" +\n",
       "                    \"Performance may be slow.\");\n",
       "        }\n",
       "    }\n",
       "\n",
       "    this.imageObj = new Image();\n",
       "\n",
       "    this.context = undefined;\n",
       "    this.message = undefined;\n",
       "    this.canvas = undefined;\n",
       "    this.rubberband_canvas = undefined;\n",
       "    this.rubberband_context = undefined;\n",
       "    this.format_dropdown = undefined;\n",
       "\n",
       "    this.image_mode = 'full';\n",
       "\n",
       "    this.root = $('<div/>');\n",
       "    this._root_extra_style(this.root)\n",
       "    this.root.attr('style', 'display: inline-block');\n",
       "\n",
       "    $(parent_element).append(this.root);\n",
       "\n",
       "    this._init_header(this);\n",
       "    this._init_canvas(this);\n",
       "    this._init_toolbar(this);\n",
       "\n",
       "    var fig = this;\n",
       "\n",
       "    this.waiting = false;\n",
       "\n",
       "    this.ws.onopen =  function () {\n",
       "            fig.send_message(\"supports_binary\", {value: fig.supports_binary});\n",
       "            fig.send_message(\"send_image_mode\", {});\n",
       "            if (mpl.ratio != 1) {\n",
       "                fig.send_message(\"set_dpi_ratio\", {'dpi_ratio': mpl.ratio});\n",
       "            }\n",
       "            fig.send_message(\"refresh\", {});\n",
       "        }\n",
       "\n",
       "    this.imageObj.onload = function() {\n",
       "            if (fig.image_mode == 'full') {\n",
       "                // Full images could contain transparency (where diff images\n",
       "                // almost always do), so we need to clear the canvas so that\n",
       "                // there is no ghosting.\n",
       "                fig.context.clearRect(0, 0, fig.canvas.width, fig.canvas.height);\n",
       "            }\n",
       "            fig.context.drawImage(fig.imageObj, 0, 0);\n",
       "        };\n",
       "\n",
       "    this.imageObj.onunload = function() {\n",
       "        fig.ws.close();\n",
       "    }\n",
       "\n",
       "    this.ws.onmessage = this._make_on_message_function(this);\n",
       "\n",
       "    this.ondownload = ondownload;\n",
       "}\n",
       "\n",
       "mpl.figure.prototype._init_header = function() {\n",
       "    var titlebar = $(\n",
       "        '<div class=\"ui-dialog-titlebar ui-widget-header ui-corner-all ' +\n",
       "        'ui-helper-clearfix\"/>');\n",
       "    var titletext = $(\n",
       "        '<div class=\"ui-dialog-title\" style=\"width: 100%; ' +\n",
       "        'text-align: center; padding: 3px;\"/>');\n",
       "    titlebar.append(titletext)\n",
       "    this.root.append(titlebar);\n",
       "    this.header = titletext[0];\n",
       "}\n",
       "\n",
       "\n",
       "\n",
       "mpl.figure.prototype._canvas_extra_style = function(canvas_div) {\n",
       "\n",
       "}\n",
       "\n",
       "\n",
       "mpl.figure.prototype._root_extra_style = function(canvas_div) {\n",
       "\n",
       "}\n",
       "\n",
       "mpl.figure.prototype._init_canvas = function() {\n",
       "    var fig = this;\n",
       "\n",
       "    var canvas_div = $('<div/>');\n",
       "\n",
       "    canvas_div.attr('style', 'position: relative; clear: both; outline: 0');\n",
       "\n",
       "    function canvas_keyboard_event(event) {\n",
       "        return fig.key_event(event, event['data']);\n",
       "    }\n",
       "\n",
       "    canvas_div.keydown('key_press', canvas_keyboard_event);\n",
       "    canvas_div.keyup('key_release', canvas_keyboard_event);\n",
       "    this.canvas_div = canvas_div\n",
       "    this._canvas_extra_style(canvas_div)\n",
       "    this.root.append(canvas_div);\n",
       "\n",
       "    var canvas = $('<canvas/>');\n",
       "    canvas.addClass('mpl-canvas');\n",
       "    canvas.attr('style', \"left: 0; top: 0; z-index: 0; outline: 0\")\n",
       "\n",
       "    this.canvas = canvas[0];\n",
       "    this.context = canvas[0].getContext(\"2d\");\n",
       "\n",
       "    var backingStore = this.context.backingStorePixelRatio ||\n",
       "\tthis.context.webkitBackingStorePixelRatio ||\n",
       "\tthis.context.mozBackingStorePixelRatio ||\n",
       "\tthis.context.msBackingStorePixelRatio ||\n",
       "\tthis.context.oBackingStorePixelRatio ||\n",
       "\tthis.context.backingStorePixelRatio || 1;\n",
       "\n",
       "    mpl.ratio = (window.devicePixelRatio || 1) / backingStore;\n",
       "\n",
       "    var rubberband = $('<canvas/>');\n",
       "    rubberband.attr('style', \"position: absolute; left: 0; top: 0; z-index: 1;\")\n",
       "\n",
       "    var pass_mouse_events = true;\n",
       "\n",
       "    canvas_div.resizable({\n",
       "        start: function(event, ui) {\n",
       "            pass_mouse_events = false;\n",
       "        },\n",
       "        resize: function(event, ui) {\n",
       "            fig.request_resize(ui.size.width, ui.size.height);\n",
       "        },\n",
       "        stop: function(event, ui) {\n",
       "            pass_mouse_events = true;\n",
       "            fig.request_resize(ui.size.width, ui.size.height);\n",
       "        },\n",
       "    });\n",
       "\n",
       "    function mouse_event_fn(event) {\n",
       "        if (pass_mouse_events)\n",
       "            return fig.mouse_event(event, event['data']);\n",
       "    }\n",
       "\n",
       "    rubberband.mousedown('button_press', mouse_event_fn);\n",
       "    rubberband.mouseup('button_release', mouse_event_fn);\n",
       "    // Throttle sequential mouse events to 1 every 20ms.\n",
       "    rubberband.mousemove('motion_notify', mouse_event_fn);\n",
       "\n",
       "    rubberband.mouseenter('figure_enter', mouse_event_fn);\n",
       "    rubberband.mouseleave('figure_leave', mouse_event_fn);\n",
       "\n",
       "    canvas_div.on(\"wheel\", function (event) {\n",
       "        event = event.originalEvent;\n",
       "        event['data'] = 'scroll'\n",
       "        if (event.deltaY < 0) {\n",
       "            event.step = 1;\n",
       "        } else {\n",
       "            event.step = -1;\n",
       "        }\n",
       "        mouse_event_fn(event);\n",
       "    });\n",
       "\n",
       "    canvas_div.append(canvas);\n",
       "    canvas_div.append(rubberband);\n",
       "\n",
       "    this.rubberband = rubberband;\n",
       "    this.rubberband_canvas = rubberband[0];\n",
       "    this.rubberband_context = rubberband[0].getContext(\"2d\");\n",
       "    this.rubberband_context.strokeStyle = \"#000000\";\n",
       "\n",
       "    this._resize_canvas = function(width, height) {\n",
       "        // Keep the size of the canvas, canvas container, and rubber band\n",
       "        // canvas in synch.\n",
       "        canvas_div.css('width', width)\n",
       "        canvas_div.css('height', height)\n",
       "\n",
       "        canvas.attr('width', width * mpl.ratio);\n",
       "        canvas.attr('height', height * mpl.ratio);\n",
       "        canvas.attr('style', 'width: ' + width + 'px; height: ' + height + 'px;');\n",
       "\n",
       "        rubberband.attr('width', width);\n",
       "        rubberband.attr('height', height);\n",
       "    }\n",
       "\n",
       "    // Set the figure to an initial 600x600px, this will subsequently be updated\n",
       "    // upon first draw.\n",
       "    this._resize_canvas(600, 600);\n",
       "\n",
       "    // Disable right mouse context menu.\n",
       "    $(this.rubberband_canvas).bind(\"contextmenu\",function(e){\n",
       "        return false;\n",
       "    });\n",
       "\n",
       "    function set_focus () {\n",
       "        canvas.focus();\n",
       "        canvas_div.focus();\n",
       "    }\n",
       "\n",
       "    window.setTimeout(set_focus, 100);\n",
       "}\n",
       "\n",
       "mpl.figure.prototype._init_toolbar = function() {\n",
       "    var fig = this;\n",
       "\n",
       "    var nav_element = $('<div/>')\n",
       "    nav_element.attr('style', 'width: 100%');\n",
       "    this.root.append(nav_element);\n",
       "\n",
       "    // Define a callback function for later on.\n",
       "    function toolbar_event(event) {\n",
       "        return fig.toolbar_button_onclick(event['data']);\n",
       "    }\n",
       "    function toolbar_mouse_event(event) {\n",
       "        return fig.toolbar_button_onmouseover(event['data']);\n",
       "    }\n",
       "\n",
       "    for(var toolbar_ind in mpl.toolbar_items) {\n",
       "        var name = mpl.toolbar_items[toolbar_ind][0];\n",
       "        var tooltip = mpl.toolbar_items[toolbar_ind][1];\n",
       "        var image = mpl.toolbar_items[toolbar_ind][2];\n",
       "        var method_name = mpl.toolbar_items[toolbar_ind][3];\n",
       "\n",
       "        if (!name) {\n",
       "            // put a spacer in here.\n",
       "            continue;\n",
       "        }\n",
       "        var button = $('<button/>');\n",
       "        button.addClass('ui-button ui-widget ui-state-default ui-corner-all ' +\n",
       "                        'ui-button-icon-only');\n",
       "        button.attr('role', 'button');\n",
       "        button.attr('aria-disabled', 'false');\n",
       "        button.click(method_name, toolbar_event);\n",
       "        button.mouseover(tooltip, toolbar_mouse_event);\n",
       "\n",
       "        var icon_img = $('<span/>');\n",
       "        icon_img.addClass('ui-button-icon-primary ui-icon');\n",
       "        icon_img.addClass(image);\n",
       "        icon_img.addClass('ui-corner-all');\n",
       "\n",
       "        var tooltip_span = $('<span/>');\n",
       "        tooltip_span.addClass('ui-button-text');\n",
       "        tooltip_span.html(tooltip);\n",
       "\n",
       "        button.append(icon_img);\n",
       "        button.append(tooltip_span);\n",
       "\n",
       "        nav_element.append(button);\n",
       "    }\n",
       "\n",
       "    var fmt_picker_span = $('<span/>');\n",
       "\n",
       "    var fmt_picker = $('<select/>');\n",
       "    fmt_picker.addClass('mpl-toolbar-option ui-widget ui-widget-content');\n",
       "    fmt_picker_span.append(fmt_picker);\n",
       "    nav_element.append(fmt_picker_span);\n",
       "    this.format_dropdown = fmt_picker[0];\n",
       "\n",
       "    for (var ind in mpl.extensions) {\n",
       "        var fmt = mpl.extensions[ind];\n",
       "        var option = $(\n",
       "            '<option/>', {selected: fmt === mpl.default_extension}).html(fmt);\n",
       "        fmt_picker.append(option)\n",
       "    }\n",
       "\n",
       "    // Add hover states to the ui-buttons\n",
       "    $( \".ui-button\" ).hover(\n",
       "        function() { $(this).addClass(\"ui-state-hover\");},\n",
       "        function() { $(this).removeClass(\"ui-state-hover\");}\n",
       "    );\n",
       "\n",
       "    var status_bar = $('<span class=\"mpl-message\"/>');\n",
       "    nav_element.append(status_bar);\n",
       "    this.message = status_bar[0];\n",
       "}\n",
       "\n",
       "mpl.figure.prototype.request_resize = function(x_pixels, y_pixels) {\n",
       "    // Request matplotlib to resize the figure. Matplotlib will then trigger a resize in the client,\n",
       "    // which will in turn request a refresh of the image.\n",
       "    this.send_message('resize', {'width': x_pixels, 'height': y_pixels});\n",
       "}\n",
       "\n",
       "mpl.figure.prototype.send_message = function(type, properties) {\n",
       "    properties['type'] = type;\n",
       "    properties['figure_id'] = this.id;\n",
       "    this.ws.send(JSON.stringify(properties));\n",
       "}\n",
       "\n",
       "mpl.figure.prototype.send_draw_message = function() {\n",
       "    if (!this.waiting) {\n",
       "        this.waiting = true;\n",
       "        this.ws.send(JSON.stringify({type: \"draw\", figure_id: this.id}));\n",
       "    }\n",
       "}\n",
       "\n",
       "\n",
       "mpl.figure.prototype.handle_save = function(fig, msg) {\n",
       "    var format_dropdown = fig.format_dropdown;\n",
       "    var format = format_dropdown.options[format_dropdown.selectedIndex].value;\n",
       "    fig.ondownload(fig, format);\n",
       "}\n",
       "\n",
       "\n",
       "mpl.figure.prototype.handle_resize = function(fig, msg) {\n",
       "    var size = msg['size'];\n",
       "    if (size[0] != fig.canvas.width || size[1] != fig.canvas.height) {\n",
       "        fig._resize_canvas(size[0], size[1]);\n",
       "        fig.send_message(\"refresh\", {});\n",
       "    };\n",
       "}\n",
       "\n",
       "mpl.figure.prototype.handle_rubberband = function(fig, msg) {\n",
       "    var x0 = msg['x0'] / mpl.ratio;\n",
       "    var y0 = (fig.canvas.height - msg['y0']) / mpl.ratio;\n",
       "    var x1 = msg['x1'] / mpl.ratio;\n",
       "    var y1 = (fig.canvas.height - msg['y1']) / mpl.ratio;\n",
       "    x0 = Math.floor(x0) + 0.5;\n",
       "    y0 = Math.floor(y0) + 0.5;\n",
       "    x1 = Math.floor(x1) + 0.5;\n",
       "    y1 = Math.floor(y1) + 0.5;\n",
       "    var min_x = Math.min(x0, x1);\n",
       "    var min_y = Math.min(y0, y1);\n",
       "    var width = Math.abs(x1 - x0);\n",
       "    var height = Math.abs(y1 - y0);\n",
       "\n",
       "    fig.rubberband_context.clearRect(\n",
       "        0, 0, fig.canvas.width, fig.canvas.height);\n",
       "\n",
       "    fig.rubberband_context.strokeRect(min_x, min_y, width, height);\n",
       "}\n",
       "\n",
       "mpl.figure.prototype.handle_figure_label = function(fig, msg) {\n",
       "    // Updates the figure title.\n",
       "    fig.header.textContent = msg['label'];\n",
       "}\n",
       "\n",
       "mpl.figure.prototype.handle_cursor = function(fig, msg) {\n",
       "    var cursor = msg['cursor'];\n",
       "    switch(cursor)\n",
       "    {\n",
       "    case 0:\n",
       "        cursor = 'pointer';\n",
       "        break;\n",
       "    case 1:\n",
       "        cursor = 'default';\n",
       "        break;\n",
       "    case 2:\n",
       "        cursor = 'crosshair';\n",
       "        break;\n",
       "    case 3:\n",
       "        cursor = 'move';\n",
       "        break;\n",
       "    }\n",
       "    fig.rubberband_canvas.style.cursor = cursor;\n",
       "}\n",
       "\n",
       "mpl.figure.prototype.handle_message = function(fig, msg) {\n",
       "    fig.message.textContent = msg['message'];\n",
       "}\n",
       "\n",
       "mpl.figure.prototype.handle_draw = function(fig, msg) {\n",
       "    // Request the server to send over a new figure.\n",
       "    fig.send_draw_message();\n",
       "}\n",
       "\n",
       "mpl.figure.prototype.handle_image_mode = function(fig, msg) {\n",
       "    fig.image_mode = msg['mode'];\n",
       "}\n",
       "\n",
       "mpl.figure.prototype.updated_canvas_event = function() {\n",
       "    // Called whenever the canvas gets updated.\n",
       "    this.send_message(\"ack\", {});\n",
       "}\n",
       "\n",
       "// A function to construct a web socket function for onmessage handling.\n",
       "// Called in the figure constructor.\n",
       "mpl.figure.prototype._make_on_message_function = function(fig) {\n",
       "    return function socket_on_message(evt) {\n",
       "        if (evt.data instanceof Blob) {\n",
       "            /* FIXME: We get \"Resource interpreted as Image but\n",
       "             * transferred with MIME type text/plain:\" errors on\n",
       "             * Chrome.  But how to set the MIME type?  It doesn't seem\n",
       "             * to be part of the websocket stream */\n",
       "            evt.data.type = \"image/png\";\n",
       "\n",
       "            /* Free the memory for the previous frames */\n",
       "            if (fig.imageObj.src) {\n",
       "                (window.URL || window.webkitURL).revokeObjectURL(\n",
       "                    fig.imageObj.src);\n",
       "            }\n",
       "\n",
       "            fig.imageObj.src = (window.URL || window.webkitURL).createObjectURL(\n",
       "                evt.data);\n",
       "            fig.updated_canvas_event();\n",
       "            fig.waiting = false;\n",
       "            return;\n",
       "        }\n",
       "        else if (typeof evt.data === 'string' && evt.data.slice(0, 21) == \"data:image/png;base64\") {\n",
       "            fig.imageObj.src = evt.data;\n",
       "            fig.updated_canvas_event();\n",
       "            fig.waiting = false;\n",
       "            return;\n",
       "        }\n",
       "\n",
       "        var msg = JSON.parse(evt.data);\n",
       "        var msg_type = msg['type'];\n",
       "\n",
       "        // Call the  \"handle_{type}\" callback, which takes\n",
       "        // the figure and JSON message as its only arguments.\n",
       "        try {\n",
       "            var callback = fig[\"handle_\" + msg_type];\n",
       "        } catch (e) {\n",
       "            console.log(\"No handler for the '\" + msg_type + \"' message type: \", msg);\n",
       "            return;\n",
       "        }\n",
       "\n",
       "        if (callback) {\n",
       "            try {\n",
       "                // console.log(\"Handling '\" + msg_type + \"' message: \", msg);\n",
       "                callback(fig, msg);\n",
       "            } catch (e) {\n",
       "                console.log(\"Exception inside the 'handler_\" + msg_type + \"' callback:\", e, e.stack, msg);\n",
       "            }\n",
       "        }\n",
       "    };\n",
       "}\n",
       "\n",
       "// from http://stackoverflow.com/questions/1114465/getting-mouse-location-in-canvas\n",
       "mpl.findpos = function(e) {\n",
       "    //this section is from http://www.quirksmode.org/js/events_properties.html\n",
       "    var targ;\n",
       "    if (!e)\n",
       "        e = window.event;\n",
       "    if (e.target)\n",
       "        targ = e.target;\n",
       "    else if (e.srcElement)\n",
       "        targ = e.srcElement;\n",
       "    if (targ.nodeType == 3) // defeat Safari bug\n",
       "        targ = targ.parentNode;\n",
       "\n",
       "    // jQuery normalizes the pageX and pageY\n",
       "    // pageX,Y are the mouse positions relative to the document\n",
       "    // offset() returns the position of the element relative to the document\n",
       "    var x = e.pageX - $(targ).offset().left;\n",
       "    var y = e.pageY - $(targ).offset().top;\n",
       "\n",
       "    return {\"x\": x, \"y\": y};\n",
       "};\n",
       "\n",
       "/*\n",
       " * return a copy of an object with only non-object keys\n",
       " * we need this to avoid circular references\n",
       " * http://stackoverflow.com/a/24161582/3208463\n",
       " */\n",
       "function simpleKeys (original) {\n",
       "  return Object.keys(original).reduce(function (obj, key) {\n",
       "    if (typeof original[key] !== 'object')\n",
       "        obj[key] = original[key]\n",
       "    return obj;\n",
       "  }, {});\n",
       "}\n",
       "\n",
       "mpl.figure.prototype.mouse_event = function(event, name) {\n",
       "    var canvas_pos = mpl.findpos(event)\n",
       "\n",
       "    if (name === 'button_press')\n",
       "    {\n",
       "        this.canvas.focus();\n",
       "        this.canvas_div.focus();\n",
       "    }\n",
       "\n",
       "    var x = canvas_pos.x * mpl.ratio;\n",
       "    var y = canvas_pos.y * mpl.ratio;\n",
       "\n",
       "    this.send_message(name, {x: x, y: y, button: event.button,\n",
       "                             step: event.step,\n",
       "                             guiEvent: simpleKeys(event)});\n",
       "\n",
       "    /* This prevents the web browser from automatically changing to\n",
       "     * the text insertion cursor when the button is pressed.  We want\n",
       "     * to control all of the cursor setting manually through the\n",
       "     * 'cursor' event from matplotlib */\n",
       "    event.preventDefault();\n",
       "    return false;\n",
       "}\n",
       "\n",
       "mpl.figure.prototype._key_event_extra = function(event, name) {\n",
       "    // Handle any extra behaviour associated with a key event\n",
       "}\n",
       "\n",
       "mpl.figure.prototype.key_event = function(event, name) {\n",
       "\n",
       "    // Prevent repeat events\n",
       "    if (name == 'key_press')\n",
       "    {\n",
       "        if (event.which === this._key)\n",
       "            return;\n",
       "        else\n",
       "            this._key = event.which;\n",
       "    }\n",
       "    if (name == 'key_release')\n",
       "        this._key = null;\n",
       "\n",
       "    var value = '';\n",
       "    if (event.ctrlKey && event.which != 17)\n",
       "        value += \"ctrl+\";\n",
       "    if (event.altKey && event.which != 18)\n",
       "        value += \"alt+\";\n",
       "    if (event.shiftKey && event.which != 16)\n",
       "        value += \"shift+\";\n",
       "\n",
       "    value += 'k';\n",
       "    value += event.which.toString();\n",
       "\n",
       "    this._key_event_extra(event, name);\n",
       "\n",
       "    this.send_message(name, {key: value,\n",
       "                             guiEvent: simpleKeys(event)});\n",
       "    return false;\n",
       "}\n",
       "\n",
       "mpl.figure.prototype.toolbar_button_onclick = function(name) {\n",
       "    if (name == 'download') {\n",
       "        this.handle_save(this, null);\n",
       "    } else {\n",
       "        this.send_message(\"toolbar_button\", {name: name});\n",
       "    }\n",
       "};\n",
       "\n",
       "mpl.figure.prototype.toolbar_button_onmouseover = function(tooltip) {\n",
       "    this.message.textContent = tooltip;\n",
       "};\n",
       "mpl.toolbar_items = [[\"Home\", \"Reset original view\", \"fa fa-home icon-home\", \"home\"], [\"Back\", \"Back to previous view\", \"fa fa-arrow-left icon-arrow-left\", \"back\"], [\"Forward\", \"Forward to next view\", \"fa fa-arrow-right icon-arrow-right\", \"forward\"], [\"\", \"\", \"\", \"\"], [\"Pan\", \"Pan axes with left mouse, zoom with right\", \"fa fa-arrows icon-move\", \"pan\"], [\"Zoom\", \"Zoom to rectangle\", \"fa fa-square-o icon-check-empty\", \"zoom\"], [\"\", \"\", \"\", \"\"], [\"Download\", \"Download plot\", \"fa fa-floppy-o icon-save\", \"download\"]];\n",
       "\n",
       "mpl.extensions = [\"eps\", \"jpeg\", \"pdf\", \"png\", \"ps\", \"raw\", \"svg\", \"tif\"];\n",
       "\n",
       "mpl.default_extension = \"png\";var comm_websocket_adapter = function(comm) {\n",
       "    // Create a \"websocket\"-like object which calls the given IPython comm\n",
       "    // object with the appropriate methods. Currently this is a non binary\n",
       "    // socket, so there is still some room for performance tuning.\n",
       "    var ws = {};\n",
       "\n",
       "    ws.close = function() {\n",
       "        comm.close()\n",
       "    };\n",
       "    ws.send = function(m) {\n",
       "        //console.log('sending', m);\n",
       "        comm.send(m);\n",
       "    };\n",
       "    // Register the callback with on_msg.\n",
       "    comm.on_msg(function(msg) {\n",
       "        //console.log('receiving', msg['content']['data'], msg);\n",
       "        // Pass the mpl event to the overridden (by mpl) onmessage function.\n",
       "        ws.onmessage(msg['content']['data'])\n",
       "    });\n",
       "    return ws;\n",
       "}\n",
       "\n",
       "mpl.mpl_figure_comm = function(comm, msg) {\n",
       "    // This is the function which gets called when the mpl process\n",
       "    // starts-up an IPython Comm through the \"matplotlib\" channel.\n",
       "\n",
       "    var id = msg.content.data.id;\n",
       "    // Get hold of the div created by the display call when the Comm\n",
       "    // socket was opened in Python.\n",
       "    var element = $(\"#\" + id);\n",
       "    var ws_proxy = comm_websocket_adapter(comm)\n",
       "\n",
       "    function ondownload(figure, format) {\n",
       "        window.open(figure.imageObj.src);\n",
       "    }\n",
       "\n",
       "    var fig = new mpl.figure(id, ws_proxy,\n",
       "                           ondownload,\n",
       "                           element.get(0));\n",
       "\n",
       "    // Call onopen now - mpl needs it, as it is assuming we've passed it a real\n",
       "    // web socket which is closed, not our websocket->open comm proxy.\n",
       "    ws_proxy.onopen();\n",
       "\n",
       "    fig.parent_element = element.get(0);\n",
       "    fig.cell_info = mpl.find_output_cell(\"<div id='\" + id + \"'></div>\");\n",
       "    if (!fig.cell_info) {\n",
       "        console.error(\"Failed to find cell for figure\", id, fig);\n",
       "        return;\n",
       "    }\n",
       "\n",
       "    var output_index = fig.cell_info[2]\n",
       "    var cell = fig.cell_info[0];\n",
       "\n",
       "};\n",
       "\n",
       "mpl.figure.prototype.handle_close = function(fig, msg) {\n",
       "    var width = fig.canvas.width/mpl.ratio\n",
       "    fig.root.unbind('remove')\n",
       "\n",
       "    // Update the output cell to use the data from the current canvas.\n",
       "    fig.push_to_output();\n",
       "    var dataURL = fig.canvas.toDataURL();\n",
       "    // Re-enable the keyboard manager in IPython - without this line, in FF,\n",
       "    // the notebook keyboard shortcuts fail.\n",
       "    IPython.keyboard_manager.enable()\n",
       "    $(fig.parent_element).html('<img src=\"' + dataURL + '\" width=\"' + width + '\">');\n",
       "    fig.close_ws(fig, msg);\n",
       "}\n",
       "\n",
       "mpl.figure.prototype.close_ws = function(fig, msg){\n",
       "    fig.send_message('closing', msg);\n",
       "    // fig.ws.close()\n",
       "}\n",
       "\n",
       "mpl.figure.prototype.push_to_output = function(remove_interactive) {\n",
       "    // Turn the data on the canvas into data in the output cell.\n",
       "    var width = this.canvas.width/mpl.ratio\n",
       "    var dataURL = this.canvas.toDataURL();\n",
       "    this.cell_info[1]['text/html'] = '<img src=\"' + dataURL + '\" width=\"' + width + '\">';\n",
       "}\n",
       "\n",
       "mpl.figure.prototype.updated_canvas_event = function() {\n",
       "    // Tell IPython that the notebook contents must change.\n",
       "    IPython.notebook.set_dirty(true);\n",
       "    this.send_message(\"ack\", {});\n",
       "    var fig = this;\n",
       "    // Wait a second, then push the new image to the DOM so\n",
       "    // that it is saved nicely (might be nice to debounce this).\n",
       "    setTimeout(function () { fig.push_to_output() }, 1000);\n",
       "}\n",
       "\n",
       "mpl.figure.prototype._init_toolbar = function() {\n",
       "    var fig = this;\n",
       "\n",
       "    var nav_element = $('<div/>')\n",
       "    nav_element.attr('style', 'width: 100%');\n",
       "    this.root.append(nav_element);\n",
       "\n",
       "    // Define a callback function for later on.\n",
       "    function toolbar_event(event) {\n",
       "        return fig.toolbar_button_onclick(event['data']);\n",
       "    }\n",
       "    function toolbar_mouse_event(event) {\n",
       "        return fig.toolbar_button_onmouseover(event['data']);\n",
       "    }\n",
       "\n",
       "    for(var toolbar_ind in mpl.toolbar_items){\n",
       "        var name = mpl.toolbar_items[toolbar_ind][0];\n",
       "        var tooltip = mpl.toolbar_items[toolbar_ind][1];\n",
       "        var image = mpl.toolbar_items[toolbar_ind][2];\n",
       "        var method_name = mpl.toolbar_items[toolbar_ind][3];\n",
       "\n",
       "        if (!name) { continue; };\n",
       "\n",
       "        var button = $('<button class=\"btn btn-default\" href=\"#\" title=\"' + name + '\"><i class=\"fa ' + image + ' fa-lg\"></i></button>');\n",
       "        button.click(method_name, toolbar_event);\n",
       "        button.mouseover(tooltip, toolbar_mouse_event);\n",
       "        nav_element.append(button);\n",
       "    }\n",
       "\n",
       "    // Add the status bar.\n",
       "    var status_bar = $('<span class=\"mpl-message\" style=\"text-align:right; float: right;\"/>');\n",
       "    nav_element.append(status_bar);\n",
       "    this.message = status_bar[0];\n",
       "\n",
       "    // Add the close button to the window.\n",
       "    var buttongrp = $('<div class=\"btn-group inline pull-right\"></div>');\n",
       "    var button = $('<button class=\"btn btn-mini btn-primary\" href=\"#\" title=\"Stop Interaction\"><i class=\"fa fa-power-off icon-remove icon-large\"></i></button>');\n",
       "    button.click(function (evt) { fig.handle_close(fig, {}); } );\n",
       "    button.mouseover('Stop Interaction', toolbar_mouse_event);\n",
       "    buttongrp.append(button);\n",
       "    var titlebar = this.root.find($('.ui-dialog-titlebar'));\n",
       "    titlebar.prepend(buttongrp);\n",
       "}\n",
       "\n",
       "mpl.figure.prototype._root_extra_style = function(el){\n",
       "    var fig = this\n",
       "    el.on(\"remove\", function(){\n",
       "\tfig.close_ws(fig, {});\n",
       "    });\n",
       "}\n",
       "\n",
       "mpl.figure.prototype._canvas_extra_style = function(el){\n",
       "    // this is important to make the div 'focusable\n",
       "    el.attr('tabindex', 0)\n",
       "    // reach out to IPython and tell the keyboard manager to turn it's self\n",
       "    // off when our div gets focus\n",
       "\n",
       "    // location in version 3\n",
       "    if (IPython.notebook.keyboard_manager) {\n",
       "        IPython.notebook.keyboard_manager.register_events(el);\n",
       "    }\n",
       "    else {\n",
       "        // location in version 2\n",
       "        IPython.keyboard_manager.register_events(el);\n",
       "    }\n",
       "\n",
       "}\n",
       "\n",
       "mpl.figure.prototype._key_event_extra = function(event, name) {\n",
       "    var manager = IPython.notebook.keyboard_manager;\n",
       "    if (!manager)\n",
       "        manager = IPython.keyboard_manager;\n",
       "\n",
       "    // Check for shift+enter\n",
       "    if (event.shiftKey && event.which == 13) {\n",
       "        this.canvas_div.blur();\n",
       "        event.shiftKey = false;\n",
       "        // Send a \"J\" for go to next cell\n",
       "        event.which = 74;\n",
       "        event.keyCode = 74;\n",
       "        manager.command_mode();\n",
       "        manager.handle_keydown(event);\n",
       "    }\n",
       "}\n",
       "\n",
       "mpl.figure.prototype.handle_save = function(fig, msg) {\n",
       "    fig.ondownload(fig, null);\n",
       "}\n",
       "\n",
       "\n",
       "mpl.find_output_cell = function(html_output) {\n",
       "    // Return the cell and output element which can be found *uniquely* in the notebook.\n",
       "    // Note - this is a bit hacky, but it is done because the \"notebook_saving.Notebook\"\n",
       "    // IPython event is triggered only after the cells have been serialised, which for\n",
       "    // our purposes (turning an active figure into a static one), is too late.\n",
       "    var cells = IPython.notebook.get_cells();\n",
       "    var ncells = cells.length;\n",
       "    for (var i=0; i<ncells; i++) {\n",
       "        var cell = cells[i];\n",
       "        if (cell.cell_type === 'code'){\n",
       "            for (var j=0; j<cell.output_area.outputs.length; j++) {\n",
       "                var data = cell.output_area.outputs[j];\n",
       "                if (data.data) {\n",
       "                    // IPython >= 3 moved mimebundle to data attribute of output\n",
       "                    data = data.data;\n",
       "                }\n",
       "                if (data['text/html'] == html_output) {\n",
       "                    return [cell, data, j];\n",
       "                }\n",
       "            }\n",
       "        }\n",
       "    }\n",
       "}\n",
       "\n",
       "// Register the function which deals with the matplotlib target/channel.\n",
       "// The kernel may be null if the page has been refreshed.\n",
       "if (IPython.notebook.kernel != null) {\n",
       "    IPython.notebook.kernel.comm_manager.register_target('matplotlib', mpl.mpl_figure_comm);\n",
       "}\n"
      ],
      "text/plain": [
       "<IPython.core.display.Javascript object>"
      ]
     },
     "metadata": {},
     "output_type": "display_data"
    },
    {
     "data": {
      "text/html": [
       "<img src=\"data:image/png;base64,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\" width=\"576\">"
      ],
      "text/plain": [
       "<IPython.core.display.HTML object>"
      ]
     },
     "metadata": {},
     "output_type": "display_data"
    }
   ],
   "source": [
    "# prepare plot\n",
    "plt.rcParams['figure.figsize'] = [8, 6]\n",
    "fig = plt.figure()\n",
    "ax = fig.add_subplot(111)\n",
    "\n",
    "# init 3D plotting\n",
    "ax = Axes3D(fig, rect=[0, 0, .95, 1], elev=30, azim=120)\n",
    "\n",
    "# add grid\n",
    "ax.grid(linestyle='dotted')\n",
    "\n",
    "# plot petal length (3rd feature in the dataset) vs. petal width (4th feature in the dataset)\n",
    "ax.scatter(iris.data[:,0], iris.data[:,1], iris.data[:,2], s=40)\n",
    "\n",
    "# add axis legends\n",
    "ax.set_xlabel(\"[sepal_length]\", fontsize=10)\n",
    "ax.set_ylabel(\"[sepal_width]\", fontsize=10)\n",
    "ax.set_zlabel(\"[petal_length]\", fontsize=10)\n",
    "\n",
    "# add plot title\n",
    "plt.title('Sepal Length vs. Sepal Width vs. Petal Length', fontsize=10)\n",
    "\n",
    "# show the three dimensional plot\n",
    "plt.show();"
   ]
  },
  {
   "cell_type": "markdown",
   "metadata": {},
   "source": [
    "We will start again by defining the max. number of iterations we aim to run the k-Means algorithm:"
   ]
  },
  {
   "cell_type": "code",
   "execution_count": 26,
   "metadata": {},
   "outputs": [],
   "source": [
    "max_iterations = 10"
   ]
  },
  {
   "cell_type": "markdown",
   "metadata": {},
   "source": [
    "Let's also initialize our initial means randomly:"
   ]
  },
  {
   "cell_type": "code",
   "execution_count": 27,
   "metadata": {},
   "outputs": [],
   "source": [
    "random_means = np.array([[1.0, 3.0, 3.0], [2.0, 6.0, 5.0], [1.0, 7.0, 2.0]])"
   ]
  },
  {
   "cell_type": "markdown",
   "metadata": {},
   "source": [
    "As well as the k-Means clustering algorithm:"
   ]
  },
  {
   "cell_type": "code",
   "execution_count": 28,
   "metadata": {},
   "outputs": [],
   "source": [
    "kmeans = KMeans(n_clusters=no_clusters, init=random_means, max_iter=max_iterations)"
   ]
  },
  {
   "cell_type": "markdown",
   "metadata": {},
   "source": [
    "Let's now fit the 3-dimensional data (instead of the two-dimensional data that we fitted above):"
   ]
  },
  {
   "cell_type": "code",
   "execution_count": 29,
   "metadata": {},
   "outputs": [
    {
     "data": {
      "text/plain": [
       "KMeans(algorithm='auto', copy_x=True,\n",
       "    init=array([[1., 3., 3.],\n",
       "       [2., 6., 5.],\n",
       "       [1., 7., 2.]]),\n",
       "    max_iter=10, n_clusters=3, n_init=10, n_jobs=None,\n",
       "    precompute_distances='auto', random_state=None, tol=0.0001, verbose=0)"
      ]
     },
     "execution_count": 29,
     "metadata": {},
     "output_type": "execute_result"
    }
   ],
   "source": [
    "kmeans.fit(iris.data[:,0:3])"
   ]
  },
  {
   "cell_type": "markdown",
   "metadata": {},
   "source": [
    "Let's further inspect the labels:"
   ]
  },
  {
   "cell_type": "code",
   "execution_count": 30,
   "metadata": {},
   "outputs": [
    {
     "name": "stdout",
     "output_type": "stream",
     "text": [
      "[0 0 0 0 0 0 0 0 0 0 0 0 0 0 0 0 0 0 0 0 0 0 0 0 0 0 0 0 0 0 0 0 0 0 0 0 0\n",
      " 0 0 0 0 0 0 0 0 0 0 0 0 0 2 1 2 1 1 1 1 1 1 1 1 1 1 1 1 1 1 1 1 1 1 1 1 1\n",
      " 1 1 2 2 1 1 1 1 1 1 1 1 1 1 1 1 1 1 1 1 1 1 1 1 1 1 2 1 2 2 2 2 1 2 2 2 2\n",
      " 2 2 1 1 2 2 2 2 1 2 1 2 1 2 2 1 1 2 2 2 2 2 1 2 2 2 2 1 2 2 2 1 2 2 2 1 2\n",
      " 2 1]\n"
     ]
    }
   ],
   "source": [
    "labels = kmeans.labels_\n",
    "print(labels)"
   ]
  },
  {
   "cell_type": "markdown",
   "metadata": {},
   "source": [
    "And the learned cluster centers:"
   ]
  },
  {
   "cell_type": "code",
   "execution_count": 31,
   "metadata": {},
   "outputs": [
    {
     "name": "stdout",
     "output_type": "stream",
     "text": [
      "[[5.006      3.428      1.462     ]\n",
      " [5.86833333 2.74       4.38166667]\n",
      " [6.8525     3.07       5.6925    ]]\n"
     ]
    }
   ],
   "source": [
    "centers = kmeans.cluster_centers_\n",
    "print(centers)"
   ]
  },
  {
   "cell_type": "markdown",
   "metadata": {},
   "source": [
    "Let's plot the iris dataset records now using the three features `Sepal length (cm)`, `Sepal width (cm)` and `Petal length (cm)`, their corresponding learned labels as well as the centroids determined by the **k-Means Clustering** algorithm:"
   ]
  },
  {
   "cell_type": "code",
   "execution_count": 44,
   "metadata": {},
   "outputs": [
    {
     "data": {
      "application/javascript": [
       "/* Put everything inside the global mpl namespace */\n",
       "window.mpl = {};\n",
       "\n",
       "\n",
       "mpl.get_websocket_type = function() {\n",
       "    if (typeof(WebSocket) !== 'undefined') {\n",
       "        return WebSocket;\n",
       "    } else if (typeof(MozWebSocket) !== 'undefined') {\n",
       "        return MozWebSocket;\n",
       "    } else {\n",
       "        alert('Your browser does not have WebSocket support.' +\n",
       "              'Please try Chrome, Safari or Firefox ≥ 6. ' +\n",
       "              'Firefox 4 and 5 are also supported but you ' +\n",
       "              'have to enable WebSockets in about:config.');\n",
       "    };\n",
       "}\n",
       "\n",
       "mpl.figure = function(figure_id, websocket, ondownload, parent_element) {\n",
       "    this.id = figure_id;\n",
       "\n",
       "    this.ws = websocket;\n",
       "\n",
       "    this.supports_binary = (this.ws.binaryType != undefined);\n",
       "\n",
       "    if (!this.supports_binary) {\n",
       "        var warnings = document.getElementById(\"mpl-warnings\");\n",
       "        if (warnings) {\n",
       "            warnings.style.display = 'block';\n",
       "            warnings.textContent = (\n",
       "                \"This browser does not support binary websocket messages. \" +\n",
       "                    \"Performance may be slow.\");\n",
       "        }\n",
       "    }\n",
       "\n",
       "    this.imageObj = new Image();\n",
       "\n",
       "    this.context = undefined;\n",
       "    this.message = undefined;\n",
       "    this.canvas = undefined;\n",
       "    this.rubberband_canvas = undefined;\n",
       "    this.rubberband_context = undefined;\n",
       "    this.format_dropdown = undefined;\n",
       "\n",
       "    this.image_mode = 'full';\n",
       "\n",
       "    this.root = $('<div/>');\n",
       "    this._root_extra_style(this.root)\n",
       "    this.root.attr('style', 'display: inline-block');\n",
       "\n",
       "    $(parent_element).append(this.root);\n",
       "\n",
       "    this._init_header(this);\n",
       "    this._init_canvas(this);\n",
       "    this._init_toolbar(this);\n",
       "\n",
       "    var fig = this;\n",
       "\n",
       "    this.waiting = false;\n",
       "\n",
       "    this.ws.onopen =  function () {\n",
       "            fig.send_message(\"supports_binary\", {value: fig.supports_binary});\n",
       "            fig.send_message(\"send_image_mode\", {});\n",
       "            if (mpl.ratio != 1) {\n",
       "                fig.send_message(\"set_dpi_ratio\", {'dpi_ratio': mpl.ratio});\n",
       "            }\n",
       "            fig.send_message(\"refresh\", {});\n",
       "        }\n",
       "\n",
       "    this.imageObj.onload = function() {\n",
       "            if (fig.image_mode == 'full') {\n",
       "                // Full images could contain transparency (where diff images\n",
       "                // almost always do), so we need to clear the canvas so that\n",
       "                // there is no ghosting.\n",
       "                fig.context.clearRect(0, 0, fig.canvas.width, fig.canvas.height);\n",
       "            }\n",
       "            fig.context.drawImage(fig.imageObj, 0, 0);\n",
       "        };\n",
       "\n",
       "    this.imageObj.onunload = function() {\n",
       "        fig.ws.close();\n",
       "    }\n",
       "\n",
       "    this.ws.onmessage = this._make_on_message_function(this);\n",
       "\n",
       "    this.ondownload = ondownload;\n",
       "}\n",
       "\n",
       "mpl.figure.prototype._init_header = function() {\n",
       "    var titlebar = $(\n",
       "        '<div class=\"ui-dialog-titlebar ui-widget-header ui-corner-all ' +\n",
       "        'ui-helper-clearfix\"/>');\n",
       "    var titletext = $(\n",
       "        '<div class=\"ui-dialog-title\" style=\"width: 100%; ' +\n",
       "        'text-align: center; padding: 3px;\"/>');\n",
       "    titlebar.append(titletext)\n",
       "    this.root.append(titlebar);\n",
       "    this.header = titletext[0];\n",
       "}\n",
       "\n",
       "\n",
       "\n",
       "mpl.figure.prototype._canvas_extra_style = function(canvas_div) {\n",
       "\n",
       "}\n",
       "\n",
       "\n",
       "mpl.figure.prototype._root_extra_style = function(canvas_div) {\n",
       "\n",
       "}\n",
       "\n",
       "mpl.figure.prototype._init_canvas = function() {\n",
       "    var fig = this;\n",
       "\n",
       "    var canvas_div = $('<div/>');\n",
       "\n",
       "    canvas_div.attr('style', 'position: relative; clear: both; outline: 0');\n",
       "\n",
       "    function canvas_keyboard_event(event) {\n",
       "        return fig.key_event(event, event['data']);\n",
       "    }\n",
       "\n",
       "    canvas_div.keydown('key_press', canvas_keyboard_event);\n",
       "    canvas_div.keyup('key_release', canvas_keyboard_event);\n",
       "    this.canvas_div = canvas_div\n",
       "    this._canvas_extra_style(canvas_div)\n",
       "    this.root.append(canvas_div);\n",
       "\n",
       "    var canvas = $('<canvas/>');\n",
       "    canvas.addClass('mpl-canvas');\n",
       "    canvas.attr('style', \"left: 0; top: 0; z-index: 0; outline: 0\")\n",
       "\n",
       "    this.canvas = canvas[0];\n",
       "    this.context = canvas[0].getContext(\"2d\");\n",
       "\n",
       "    var backingStore = this.context.backingStorePixelRatio ||\n",
       "\tthis.context.webkitBackingStorePixelRatio ||\n",
       "\tthis.context.mozBackingStorePixelRatio ||\n",
       "\tthis.context.msBackingStorePixelRatio ||\n",
       "\tthis.context.oBackingStorePixelRatio ||\n",
       "\tthis.context.backingStorePixelRatio || 1;\n",
       "\n",
       "    mpl.ratio = (window.devicePixelRatio || 1) / backingStore;\n",
       "\n",
       "    var rubberband = $('<canvas/>');\n",
       "    rubberband.attr('style', \"position: absolute; left: 0; top: 0; z-index: 1;\")\n",
       "\n",
       "    var pass_mouse_events = true;\n",
       "\n",
       "    canvas_div.resizable({\n",
       "        start: function(event, ui) {\n",
       "            pass_mouse_events = false;\n",
       "        },\n",
       "        resize: function(event, ui) {\n",
       "            fig.request_resize(ui.size.width, ui.size.height);\n",
       "        },\n",
       "        stop: function(event, ui) {\n",
       "            pass_mouse_events = true;\n",
       "            fig.request_resize(ui.size.width, ui.size.height);\n",
       "        },\n",
       "    });\n",
       "\n",
       "    function mouse_event_fn(event) {\n",
       "        if (pass_mouse_events)\n",
       "            return fig.mouse_event(event, event['data']);\n",
       "    }\n",
       "\n",
       "    rubberband.mousedown('button_press', mouse_event_fn);\n",
       "    rubberband.mouseup('button_release', mouse_event_fn);\n",
       "    // Throttle sequential mouse events to 1 every 20ms.\n",
       "    rubberband.mousemove('motion_notify', mouse_event_fn);\n",
       "\n",
       "    rubberband.mouseenter('figure_enter', mouse_event_fn);\n",
       "    rubberband.mouseleave('figure_leave', mouse_event_fn);\n",
       "\n",
       "    canvas_div.on(\"wheel\", function (event) {\n",
       "        event = event.originalEvent;\n",
       "        event['data'] = 'scroll'\n",
       "        if (event.deltaY < 0) {\n",
       "            event.step = 1;\n",
       "        } else {\n",
       "            event.step = -1;\n",
       "        }\n",
       "        mouse_event_fn(event);\n",
       "    });\n",
       "\n",
       "    canvas_div.append(canvas);\n",
       "    canvas_div.append(rubberband);\n",
       "\n",
       "    this.rubberband = rubberband;\n",
       "    this.rubberband_canvas = rubberband[0];\n",
       "    this.rubberband_context = rubberband[0].getContext(\"2d\");\n",
       "    this.rubberband_context.strokeStyle = \"#000000\";\n",
       "\n",
       "    this._resize_canvas = function(width, height) {\n",
       "        // Keep the size of the canvas, canvas container, and rubber band\n",
       "        // canvas in synch.\n",
       "        canvas_div.css('width', width)\n",
       "        canvas_div.css('height', height)\n",
       "\n",
       "        canvas.attr('width', width * mpl.ratio);\n",
       "        canvas.attr('height', height * mpl.ratio);\n",
       "        canvas.attr('style', 'width: ' + width + 'px; height: ' + height + 'px;');\n",
       "\n",
       "        rubberband.attr('width', width);\n",
       "        rubberband.attr('height', height);\n",
       "    }\n",
       "\n",
       "    // Set the figure to an initial 600x600px, this will subsequently be updated\n",
       "    // upon first draw.\n",
       "    this._resize_canvas(600, 600);\n",
       "\n",
       "    // Disable right mouse context menu.\n",
       "    $(this.rubberband_canvas).bind(\"contextmenu\",function(e){\n",
       "        return false;\n",
       "    });\n",
       "\n",
       "    function set_focus () {\n",
       "        canvas.focus();\n",
       "        canvas_div.focus();\n",
       "    }\n",
       "\n",
       "    window.setTimeout(set_focus, 100);\n",
       "}\n",
       "\n",
       "mpl.figure.prototype._init_toolbar = function() {\n",
       "    var fig = this;\n",
       "\n",
       "    var nav_element = $('<div/>')\n",
       "    nav_element.attr('style', 'width: 100%');\n",
       "    this.root.append(nav_element);\n",
       "\n",
       "    // Define a callback function for later on.\n",
       "    function toolbar_event(event) {\n",
       "        return fig.toolbar_button_onclick(event['data']);\n",
       "    }\n",
       "    function toolbar_mouse_event(event) {\n",
       "        return fig.toolbar_button_onmouseover(event['data']);\n",
       "    }\n",
       "\n",
       "    for(var toolbar_ind in mpl.toolbar_items) {\n",
       "        var name = mpl.toolbar_items[toolbar_ind][0];\n",
       "        var tooltip = mpl.toolbar_items[toolbar_ind][1];\n",
       "        var image = mpl.toolbar_items[toolbar_ind][2];\n",
       "        var method_name = mpl.toolbar_items[toolbar_ind][3];\n",
       "\n",
       "        if (!name) {\n",
       "            // put a spacer in here.\n",
       "            continue;\n",
       "        }\n",
       "        var button = $('<button/>');\n",
       "        button.addClass('ui-button ui-widget ui-state-default ui-corner-all ' +\n",
       "                        'ui-button-icon-only');\n",
       "        button.attr('role', 'button');\n",
       "        button.attr('aria-disabled', 'false');\n",
       "        button.click(method_name, toolbar_event);\n",
       "        button.mouseover(tooltip, toolbar_mouse_event);\n",
       "\n",
       "        var icon_img = $('<span/>');\n",
       "        icon_img.addClass('ui-button-icon-primary ui-icon');\n",
       "        icon_img.addClass(image);\n",
       "        icon_img.addClass('ui-corner-all');\n",
       "\n",
       "        var tooltip_span = $('<span/>');\n",
       "        tooltip_span.addClass('ui-button-text');\n",
       "        tooltip_span.html(tooltip);\n",
       "\n",
       "        button.append(icon_img);\n",
       "        button.append(tooltip_span);\n",
       "\n",
       "        nav_element.append(button);\n",
       "    }\n",
       "\n",
       "    var fmt_picker_span = $('<span/>');\n",
       "\n",
       "    var fmt_picker = $('<select/>');\n",
       "    fmt_picker.addClass('mpl-toolbar-option ui-widget ui-widget-content');\n",
       "    fmt_picker_span.append(fmt_picker);\n",
       "    nav_element.append(fmt_picker_span);\n",
       "    this.format_dropdown = fmt_picker[0];\n",
       "\n",
       "    for (var ind in mpl.extensions) {\n",
       "        var fmt = mpl.extensions[ind];\n",
       "        var option = $(\n",
       "            '<option/>', {selected: fmt === mpl.default_extension}).html(fmt);\n",
       "        fmt_picker.append(option)\n",
       "    }\n",
       "\n",
       "    // Add hover states to the ui-buttons\n",
       "    $( \".ui-button\" ).hover(\n",
       "        function() { $(this).addClass(\"ui-state-hover\");},\n",
       "        function() { $(this).removeClass(\"ui-state-hover\");}\n",
       "    );\n",
       "\n",
       "    var status_bar = $('<span class=\"mpl-message\"/>');\n",
       "    nav_element.append(status_bar);\n",
       "    this.message = status_bar[0];\n",
       "}\n",
       "\n",
       "mpl.figure.prototype.request_resize = function(x_pixels, y_pixels) {\n",
       "    // Request matplotlib to resize the figure. Matplotlib will then trigger a resize in the client,\n",
       "    // which will in turn request a refresh of the image.\n",
       "    this.send_message('resize', {'width': x_pixels, 'height': y_pixels});\n",
       "}\n",
       "\n",
       "mpl.figure.prototype.send_message = function(type, properties) {\n",
       "    properties['type'] = type;\n",
       "    properties['figure_id'] = this.id;\n",
       "    this.ws.send(JSON.stringify(properties));\n",
       "}\n",
       "\n",
       "mpl.figure.prototype.send_draw_message = function() {\n",
       "    if (!this.waiting) {\n",
       "        this.waiting = true;\n",
       "        this.ws.send(JSON.stringify({type: \"draw\", figure_id: this.id}));\n",
       "    }\n",
       "}\n",
       "\n",
       "\n",
       "mpl.figure.prototype.handle_save = function(fig, msg) {\n",
       "    var format_dropdown = fig.format_dropdown;\n",
       "    var format = format_dropdown.options[format_dropdown.selectedIndex].value;\n",
       "    fig.ondownload(fig, format);\n",
       "}\n",
       "\n",
       "\n",
       "mpl.figure.prototype.handle_resize = function(fig, msg) {\n",
       "    var size = msg['size'];\n",
       "    if (size[0] != fig.canvas.width || size[1] != fig.canvas.height) {\n",
       "        fig._resize_canvas(size[0], size[1]);\n",
       "        fig.send_message(\"refresh\", {});\n",
       "    };\n",
       "}\n",
       "\n",
       "mpl.figure.prototype.handle_rubberband = function(fig, msg) {\n",
       "    var x0 = msg['x0'] / mpl.ratio;\n",
       "    var y0 = (fig.canvas.height - msg['y0']) / mpl.ratio;\n",
       "    var x1 = msg['x1'] / mpl.ratio;\n",
       "    var y1 = (fig.canvas.height - msg['y1']) / mpl.ratio;\n",
       "    x0 = Math.floor(x0) + 0.5;\n",
       "    y0 = Math.floor(y0) + 0.5;\n",
       "    x1 = Math.floor(x1) + 0.5;\n",
       "    y1 = Math.floor(y1) + 0.5;\n",
       "    var min_x = Math.min(x0, x1);\n",
       "    var min_y = Math.min(y0, y1);\n",
       "    var width = Math.abs(x1 - x0);\n",
       "    var height = Math.abs(y1 - y0);\n",
       "\n",
       "    fig.rubberband_context.clearRect(\n",
       "        0, 0, fig.canvas.width, fig.canvas.height);\n",
       "\n",
       "    fig.rubberband_context.strokeRect(min_x, min_y, width, height);\n",
       "}\n",
       "\n",
       "mpl.figure.prototype.handle_figure_label = function(fig, msg) {\n",
       "    // Updates the figure title.\n",
       "    fig.header.textContent = msg['label'];\n",
       "}\n",
       "\n",
       "mpl.figure.prototype.handle_cursor = function(fig, msg) {\n",
       "    var cursor = msg['cursor'];\n",
       "    switch(cursor)\n",
       "    {\n",
       "    case 0:\n",
       "        cursor = 'pointer';\n",
       "        break;\n",
       "    case 1:\n",
       "        cursor = 'default';\n",
       "        break;\n",
       "    case 2:\n",
       "        cursor = 'crosshair';\n",
       "        break;\n",
       "    case 3:\n",
       "        cursor = 'move';\n",
       "        break;\n",
       "    }\n",
       "    fig.rubberband_canvas.style.cursor = cursor;\n",
       "}\n",
       "\n",
       "mpl.figure.prototype.handle_message = function(fig, msg) {\n",
       "    fig.message.textContent = msg['message'];\n",
       "}\n",
       "\n",
       "mpl.figure.prototype.handle_draw = function(fig, msg) {\n",
       "    // Request the server to send over a new figure.\n",
       "    fig.send_draw_message();\n",
       "}\n",
       "\n",
       "mpl.figure.prototype.handle_image_mode = function(fig, msg) {\n",
       "    fig.image_mode = msg['mode'];\n",
       "}\n",
       "\n",
       "mpl.figure.prototype.updated_canvas_event = function() {\n",
       "    // Called whenever the canvas gets updated.\n",
       "    this.send_message(\"ack\", {});\n",
       "}\n",
       "\n",
       "// A function to construct a web socket function for onmessage handling.\n",
       "// Called in the figure constructor.\n",
       "mpl.figure.prototype._make_on_message_function = function(fig) {\n",
       "    return function socket_on_message(evt) {\n",
       "        if (evt.data instanceof Blob) {\n",
       "            /* FIXME: We get \"Resource interpreted as Image but\n",
       "             * transferred with MIME type text/plain:\" errors on\n",
       "             * Chrome.  But how to set the MIME type?  It doesn't seem\n",
       "             * to be part of the websocket stream */\n",
       "            evt.data.type = \"image/png\";\n",
       "\n",
       "            /* Free the memory for the previous frames */\n",
       "            if (fig.imageObj.src) {\n",
       "                (window.URL || window.webkitURL).revokeObjectURL(\n",
       "                    fig.imageObj.src);\n",
       "            }\n",
       "\n",
       "            fig.imageObj.src = (window.URL || window.webkitURL).createObjectURL(\n",
       "                evt.data);\n",
       "            fig.updated_canvas_event();\n",
       "            fig.waiting = false;\n",
       "            return;\n",
       "        }\n",
       "        else if (typeof evt.data === 'string' && evt.data.slice(0, 21) == \"data:image/png;base64\") {\n",
       "            fig.imageObj.src = evt.data;\n",
       "            fig.updated_canvas_event();\n",
       "            fig.waiting = false;\n",
       "            return;\n",
       "        }\n",
       "\n",
       "        var msg = JSON.parse(evt.data);\n",
       "        var msg_type = msg['type'];\n",
       "\n",
       "        // Call the  \"handle_{type}\" callback, which takes\n",
       "        // the figure and JSON message as its only arguments.\n",
       "        try {\n",
       "            var callback = fig[\"handle_\" + msg_type];\n",
       "        } catch (e) {\n",
       "            console.log(\"No handler for the '\" + msg_type + \"' message type: \", msg);\n",
       "            return;\n",
       "        }\n",
       "\n",
       "        if (callback) {\n",
       "            try {\n",
       "                // console.log(\"Handling '\" + msg_type + \"' message: \", msg);\n",
       "                callback(fig, msg);\n",
       "            } catch (e) {\n",
       "                console.log(\"Exception inside the 'handler_\" + msg_type + \"' callback:\", e, e.stack, msg);\n",
       "            }\n",
       "        }\n",
       "    };\n",
       "}\n",
       "\n",
       "// from http://stackoverflow.com/questions/1114465/getting-mouse-location-in-canvas\n",
       "mpl.findpos = function(e) {\n",
       "    //this section is from http://www.quirksmode.org/js/events_properties.html\n",
       "    var targ;\n",
       "    if (!e)\n",
       "        e = window.event;\n",
       "    if (e.target)\n",
       "        targ = e.target;\n",
       "    else if (e.srcElement)\n",
       "        targ = e.srcElement;\n",
       "    if (targ.nodeType == 3) // defeat Safari bug\n",
       "        targ = targ.parentNode;\n",
       "\n",
       "    // jQuery normalizes the pageX and pageY\n",
       "    // pageX,Y are the mouse positions relative to the document\n",
       "    // offset() returns the position of the element relative to the document\n",
       "    var x = e.pageX - $(targ).offset().left;\n",
       "    var y = e.pageY - $(targ).offset().top;\n",
       "\n",
       "    return {\"x\": x, \"y\": y};\n",
       "};\n",
       "\n",
       "/*\n",
       " * return a copy of an object with only non-object keys\n",
       " * we need this to avoid circular references\n",
       " * http://stackoverflow.com/a/24161582/3208463\n",
       " */\n",
       "function simpleKeys (original) {\n",
       "  return Object.keys(original).reduce(function (obj, key) {\n",
       "    if (typeof original[key] !== 'object')\n",
       "        obj[key] = original[key]\n",
       "    return obj;\n",
       "  }, {});\n",
       "}\n",
       "\n",
       "mpl.figure.prototype.mouse_event = function(event, name) {\n",
       "    var canvas_pos = mpl.findpos(event)\n",
       "\n",
       "    if (name === 'button_press')\n",
       "    {\n",
       "        this.canvas.focus();\n",
       "        this.canvas_div.focus();\n",
       "    }\n",
       "\n",
       "    var x = canvas_pos.x * mpl.ratio;\n",
       "    var y = canvas_pos.y * mpl.ratio;\n",
       "\n",
       "    this.send_message(name, {x: x, y: y, button: event.button,\n",
       "                             step: event.step,\n",
       "                             guiEvent: simpleKeys(event)});\n",
       "\n",
       "    /* This prevents the web browser from automatically changing to\n",
       "     * the text insertion cursor when the button is pressed.  We want\n",
       "     * to control all of the cursor setting manually through the\n",
       "     * 'cursor' event from matplotlib */\n",
       "    event.preventDefault();\n",
       "    return false;\n",
       "}\n",
       "\n",
       "mpl.figure.prototype._key_event_extra = function(event, name) {\n",
       "    // Handle any extra behaviour associated with a key event\n",
       "}\n",
       "\n",
       "mpl.figure.prototype.key_event = function(event, name) {\n",
       "\n",
       "    // Prevent repeat events\n",
       "    if (name == 'key_press')\n",
       "    {\n",
       "        if (event.which === this._key)\n",
       "            return;\n",
       "        else\n",
       "            this._key = event.which;\n",
       "    }\n",
       "    if (name == 'key_release')\n",
       "        this._key = null;\n",
       "\n",
       "    var value = '';\n",
       "    if (event.ctrlKey && event.which != 17)\n",
       "        value += \"ctrl+\";\n",
       "    if (event.altKey && event.which != 18)\n",
       "        value += \"alt+\";\n",
       "    if (event.shiftKey && event.which != 16)\n",
       "        value += \"shift+\";\n",
       "\n",
       "    value += 'k';\n",
       "    value += event.which.toString();\n",
       "\n",
       "    this._key_event_extra(event, name);\n",
       "\n",
       "    this.send_message(name, {key: value,\n",
       "                             guiEvent: simpleKeys(event)});\n",
       "    return false;\n",
       "}\n",
       "\n",
       "mpl.figure.prototype.toolbar_button_onclick = function(name) {\n",
       "    if (name == 'download') {\n",
       "        this.handle_save(this, null);\n",
       "    } else {\n",
       "        this.send_message(\"toolbar_button\", {name: name});\n",
       "    }\n",
       "};\n",
       "\n",
       "mpl.figure.prototype.toolbar_button_onmouseover = function(tooltip) {\n",
       "    this.message.textContent = tooltip;\n",
       "};\n",
       "mpl.toolbar_items = [[\"Home\", \"Reset original view\", \"fa fa-home icon-home\", \"home\"], [\"Back\", \"Back to previous view\", \"fa fa-arrow-left icon-arrow-left\", \"back\"], [\"Forward\", \"Forward to next view\", \"fa fa-arrow-right icon-arrow-right\", \"forward\"], [\"\", \"\", \"\", \"\"], [\"Pan\", \"Pan axes with left mouse, zoom with right\", \"fa fa-arrows icon-move\", \"pan\"], [\"Zoom\", \"Zoom to rectangle\", \"fa fa-square-o icon-check-empty\", \"zoom\"], [\"\", \"\", \"\", \"\"], [\"Download\", \"Download plot\", \"fa fa-floppy-o icon-save\", \"download\"]];\n",
       "\n",
       "mpl.extensions = [\"eps\", \"jpeg\", \"pdf\", \"png\", \"ps\", \"raw\", \"svg\", \"tif\"];\n",
       "\n",
       "mpl.default_extension = \"png\";var comm_websocket_adapter = function(comm) {\n",
       "    // Create a \"websocket\"-like object which calls the given IPython comm\n",
       "    // object with the appropriate methods. Currently this is a non binary\n",
       "    // socket, so there is still some room for performance tuning.\n",
       "    var ws = {};\n",
       "\n",
       "    ws.close = function() {\n",
       "        comm.close()\n",
       "    };\n",
       "    ws.send = function(m) {\n",
       "        //console.log('sending', m);\n",
       "        comm.send(m);\n",
       "    };\n",
       "    // Register the callback with on_msg.\n",
       "    comm.on_msg(function(msg) {\n",
       "        //console.log('receiving', msg['content']['data'], msg);\n",
       "        // Pass the mpl event to the overridden (by mpl) onmessage function.\n",
       "        ws.onmessage(msg['content']['data'])\n",
       "    });\n",
       "    return ws;\n",
       "}\n",
       "\n",
       "mpl.mpl_figure_comm = function(comm, msg) {\n",
       "    // This is the function which gets called when the mpl process\n",
       "    // starts-up an IPython Comm through the \"matplotlib\" channel.\n",
       "\n",
       "    var id = msg.content.data.id;\n",
       "    // Get hold of the div created by the display call when the Comm\n",
       "    // socket was opened in Python.\n",
       "    var element = $(\"#\" + id);\n",
       "    var ws_proxy = comm_websocket_adapter(comm)\n",
       "\n",
       "    function ondownload(figure, format) {\n",
       "        window.open(figure.imageObj.src);\n",
       "    }\n",
       "\n",
       "    var fig = new mpl.figure(id, ws_proxy,\n",
       "                           ondownload,\n",
       "                           element.get(0));\n",
       "\n",
       "    // Call onopen now - mpl needs it, as it is assuming we've passed it a real\n",
       "    // web socket which is closed, not our websocket->open comm proxy.\n",
       "    ws_proxy.onopen();\n",
       "\n",
       "    fig.parent_element = element.get(0);\n",
       "    fig.cell_info = mpl.find_output_cell(\"<div id='\" + id + \"'></div>\");\n",
       "    if (!fig.cell_info) {\n",
       "        console.error(\"Failed to find cell for figure\", id, fig);\n",
       "        return;\n",
       "    }\n",
       "\n",
       "    var output_index = fig.cell_info[2]\n",
       "    var cell = fig.cell_info[0];\n",
       "\n",
       "};\n",
       "\n",
       "mpl.figure.prototype.handle_close = function(fig, msg) {\n",
       "    var width = fig.canvas.width/mpl.ratio\n",
       "    fig.root.unbind('remove')\n",
       "\n",
       "    // Update the output cell to use the data from the current canvas.\n",
       "    fig.push_to_output();\n",
       "    var dataURL = fig.canvas.toDataURL();\n",
       "    // Re-enable the keyboard manager in IPython - without this line, in FF,\n",
       "    // the notebook keyboard shortcuts fail.\n",
       "    IPython.keyboard_manager.enable()\n",
       "    $(fig.parent_element).html('<img src=\"' + dataURL + '\" width=\"' + width + '\">');\n",
       "    fig.close_ws(fig, msg);\n",
       "}\n",
       "\n",
       "mpl.figure.prototype.close_ws = function(fig, msg){\n",
       "    fig.send_message('closing', msg);\n",
       "    // fig.ws.close()\n",
       "}\n",
       "\n",
       "mpl.figure.prototype.push_to_output = function(remove_interactive) {\n",
       "    // Turn the data on the canvas into data in the output cell.\n",
       "    var width = this.canvas.width/mpl.ratio\n",
       "    var dataURL = this.canvas.toDataURL();\n",
       "    this.cell_info[1]['text/html'] = '<img src=\"' + dataURL + '\" width=\"' + width + '\">';\n",
       "}\n",
       "\n",
       "mpl.figure.prototype.updated_canvas_event = function() {\n",
       "    // Tell IPython that the notebook contents must change.\n",
       "    IPython.notebook.set_dirty(true);\n",
       "    this.send_message(\"ack\", {});\n",
       "    var fig = this;\n",
       "    // Wait a second, then push the new image to the DOM so\n",
       "    // that it is saved nicely (might be nice to debounce this).\n",
       "    setTimeout(function () { fig.push_to_output() }, 1000);\n",
       "}\n",
       "\n",
       "mpl.figure.prototype._init_toolbar = function() {\n",
       "    var fig = this;\n",
       "\n",
       "    var nav_element = $('<div/>')\n",
       "    nav_element.attr('style', 'width: 100%');\n",
       "    this.root.append(nav_element);\n",
       "\n",
       "    // Define a callback function for later on.\n",
       "    function toolbar_event(event) {\n",
       "        return fig.toolbar_button_onclick(event['data']);\n",
       "    }\n",
       "    function toolbar_mouse_event(event) {\n",
       "        return fig.toolbar_button_onmouseover(event['data']);\n",
       "    }\n",
       "\n",
       "    for(var toolbar_ind in mpl.toolbar_items){\n",
       "        var name = mpl.toolbar_items[toolbar_ind][0];\n",
       "        var tooltip = mpl.toolbar_items[toolbar_ind][1];\n",
       "        var image = mpl.toolbar_items[toolbar_ind][2];\n",
       "        var method_name = mpl.toolbar_items[toolbar_ind][3];\n",
       "\n",
       "        if (!name) { continue; };\n",
       "\n",
       "        var button = $('<button class=\"btn btn-default\" href=\"#\" title=\"' + name + '\"><i class=\"fa ' + image + ' fa-lg\"></i></button>');\n",
       "        button.click(method_name, toolbar_event);\n",
       "        button.mouseover(tooltip, toolbar_mouse_event);\n",
       "        nav_element.append(button);\n",
       "    }\n",
       "\n",
       "    // Add the status bar.\n",
       "    var status_bar = $('<span class=\"mpl-message\" style=\"text-align:right; float: right;\"/>');\n",
       "    nav_element.append(status_bar);\n",
       "    this.message = status_bar[0];\n",
       "\n",
       "    // Add the close button to the window.\n",
       "    var buttongrp = $('<div class=\"btn-group inline pull-right\"></div>');\n",
       "    var button = $('<button class=\"btn btn-mini btn-primary\" href=\"#\" title=\"Stop Interaction\"><i class=\"fa fa-power-off icon-remove icon-large\"></i></button>');\n",
       "    button.click(function (evt) { fig.handle_close(fig, {}); } );\n",
       "    button.mouseover('Stop Interaction', toolbar_mouse_event);\n",
       "    buttongrp.append(button);\n",
       "    var titlebar = this.root.find($('.ui-dialog-titlebar'));\n",
       "    titlebar.prepend(buttongrp);\n",
       "}\n",
       "\n",
       "mpl.figure.prototype._root_extra_style = function(el){\n",
       "    var fig = this\n",
       "    el.on(\"remove\", function(){\n",
       "\tfig.close_ws(fig, {});\n",
       "    });\n",
       "}\n",
       "\n",
       "mpl.figure.prototype._canvas_extra_style = function(el){\n",
       "    // this is important to make the div 'focusable\n",
       "    el.attr('tabindex', 0)\n",
       "    // reach out to IPython and tell the keyboard manager to turn it's self\n",
       "    // off when our div gets focus\n",
       "\n",
       "    // location in version 3\n",
       "    if (IPython.notebook.keyboard_manager) {\n",
       "        IPython.notebook.keyboard_manager.register_events(el);\n",
       "    }\n",
       "    else {\n",
       "        // location in version 2\n",
       "        IPython.keyboard_manager.register_events(el);\n",
       "    }\n",
       "\n",
       "}\n",
       "\n",
       "mpl.figure.prototype._key_event_extra = function(event, name) {\n",
       "    var manager = IPython.notebook.keyboard_manager;\n",
       "    if (!manager)\n",
       "        manager = IPython.keyboard_manager;\n",
       "\n",
       "    // Check for shift+enter\n",
       "    if (event.shiftKey && event.which == 13) {\n",
       "        this.canvas_div.blur();\n",
       "        event.shiftKey = false;\n",
       "        // Send a \"J\" for go to next cell\n",
       "        event.which = 74;\n",
       "        event.keyCode = 74;\n",
       "        manager.command_mode();\n",
       "        manager.handle_keydown(event);\n",
       "    }\n",
       "}\n",
       "\n",
       "mpl.figure.prototype.handle_save = function(fig, msg) {\n",
       "    fig.ondownload(fig, null);\n",
       "}\n",
       "\n",
       "\n",
       "mpl.find_output_cell = function(html_output) {\n",
       "    // Return the cell and output element which can be found *uniquely* in the notebook.\n",
       "    // Note - this is a bit hacky, but it is done because the \"notebook_saving.Notebook\"\n",
       "    // IPython event is triggered only after the cells have been serialised, which for\n",
       "    // our purposes (turning an active figure into a static one), is too late.\n",
       "    var cells = IPython.notebook.get_cells();\n",
       "    var ncells = cells.length;\n",
       "    for (var i=0; i<ncells; i++) {\n",
       "        var cell = cells[i];\n",
       "        if (cell.cell_type === 'code'){\n",
       "            for (var j=0; j<cell.output_area.outputs.length; j++) {\n",
       "                var data = cell.output_area.outputs[j];\n",
       "                if (data.data) {\n",
       "                    // IPython >= 3 moved mimebundle to data attribute of output\n",
       "                    data = data.data;\n",
       "                }\n",
       "                if (data['text/html'] == html_output) {\n",
       "                    return [cell, data, j];\n",
       "                }\n",
       "            }\n",
       "        }\n",
       "    }\n",
       "}\n",
       "\n",
       "// Register the function which deals with the matplotlib target/channel.\n",
       "// The kernel may be null if the page has been refreshed.\n",
       "if (IPython.notebook.kernel != null) {\n",
       "    IPython.notebook.kernel.comm_manager.register_target('matplotlib', mpl.mpl_figure_comm);\n",
       "}\n"
      ],
      "text/plain": [
       "<IPython.core.display.Javascript object>"
      ]
     },
     "metadata": {},
     "output_type": "display_data"
    },
    {
     "data": {
      "text/html": [
       "<img src=\"data:image/png;base64,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\" width=\"576\">"
      ],
      "text/plain": [
       "<IPython.core.display.HTML object>"
      ]
     },
     "metadata": {},
     "output_type": "display_data"
    }
   ],
   "source": [
    "# prepare plot\n",
    "plt.rcParams['figure.figsize'] = [8, 6]\n",
    "fig = plt.figure()\n",
    "ax = fig.add_subplot(111)\n",
    "\n",
    "# init 3D plotting\n",
    "ax = Axes3D(fig, rect=[0, 0, .95, 1], elev=30, azim=120)\n",
    "\n",
    "# add grid\n",
    "ax.grid(linestyle='dotted')\n",
    "\n",
    "# plot petal length vs. petal width and corresponding classes\n",
    "ax.scatter(iris.data[:,0], iris.data[:,1], iris.data[:,2], c=labels.astype(np.float), cmap=plt.cm.Set1, s=40)\n",
    "\n",
    "# plot cluster centers\n",
    "ax.scatter(centers[:,0], centers[:,1], centers[:,2], marker='x', c='black', s=100)\n",
    "\n",
    "# add axis legends\n",
    "ax.set_xlabel(\"[sepal_length]\", fontsize=10)\n",
    "ax.set_ylabel(\"[sepal_width]\", fontsize=10)\n",
    "ax.set_zlabel(\"[petal_length]\", fontsize=10)\n",
    "\n",
    "# add plot title\n",
    "plt.title('Sepal Length vs. Sepal Width vs. Petal Length', fontsize=10);\n",
    "\n",
    "# show the three dimensional plot\n",
    "plt.show();"
   ]
  },
  {
   "cell_type": "markdown",
   "metadata": {},
   "source": [
    "Finally, let's again inspect the distance of each dataset record to its nearest means calling the `inertia_` attribute of the k-Means clustering object:"
   ]
  },
  {
   "cell_type": "code",
   "execution_count": 33,
   "metadata": {},
   "outputs": [
    {
     "name": "stdout",
     "output_type": "stream",
     "text": [
      "69.44196666666667\n"
     ]
    }
   ],
   "source": [
    "distances = kmeans.inertia_\n",
    "print(distances)"
   ]
  },
  {
   "cell_type": "markdown",
   "metadata": {},
   "source": [
    "### Step 1.2. Detecting the Optimal Number of Clusters"
   ]
  },
  {
   "cell_type": "markdown",
   "metadata": {},
   "source": [
    "Enable inline Jupyter notebook plotting:"
   ]
  },
  {
   "cell_type": "code",
   "execution_count": 34,
   "metadata": {},
   "outputs": [],
   "source": [
    "%matplotlib inline"
   ]
  },
  {
   "cell_type": "markdown",
   "metadata": {},
   "source": [
    "Recall that, one of the basic ideas behind unsupervised machine learning methods, such as **k-Means clustering**, is to define clusters such that the total intra-cluster variation (usually measured by the total sum of squared distances) is minimized:"
   ]
  },
  {
   "cell_type": "markdown",
   "metadata": {},
   "source": [
    "$$k^{*} =\\underset{k}{\\arg \\min} \\sum_{i=1}^{n}(x_{i}-\\mu_{k(i)})^{2},$$"
   ]
  },
  {
   "cell_type": "markdown",
   "metadata": {},
   "source": [
    "were $x_{i}$ denotes a single observation in the dataset and $\\mu_{k(i)}$ its closest mean in the feature space $\\mathcal{R}^{d}$. Challenge: What is the optimal number of clusters $k$ for a given dataset? Selection of the right $k$ may result in the following issues:\n",
    "\n",
    "- if $k$ too small (under-segmentation), then the clusters are too diverse; and;\n",
    "- if $k$ too high (over-segmentation), then the clusters are too fine-grain.\n",
    "\n",
    "Examples: "
   ]
  },
  {
   "cell_type": "markdown",
   "metadata": {},
   "source": [
    "<img align=\"center\" style=\"max-width: 800px; height: auto\" src=\"images/kselection.png\">"
   ]
  },
  {
   "cell_type": "markdown",
   "metadata": {},
   "source": [
    "Solution: We can then use the sum of \"squared errors\" $E(\\mu_{1}, \\mu_{2}, ..., \\mu_{k})$ metric to find an optimal number of clusters $k$! This can be achieved by the execution of the so-called **'elbow'** technique defined by the following algorithm:\n",
    "\n",
    ">- **Step 1** - Compute the k-Means clustering algorithm for different number of clusters $k$.\n",
    ">- **Step 2** - For each $k$ calculate the sum of the within-cluster sum of squared distances $E(\\mu_{1}, \\mu_{2}, ..., \\mu_{k})$.\n",
    ">- **Step 3** - For each $k$ plot the $k$ value vs. its corresponding sum of within-cluster sum of squared distances $E$. \n",
    ">- **Step 4** - Inspect the plot and determine the location of a bend (appropriate number of clusters)."
   ]
  },
  {
   "cell_type": "markdown",
   "metadata": {},
   "source": [
    "Let's utilize the **'elbow'** technique by first defining the max. number of iterations that we aim to apply to each k-Means clustering run:"
   ]
  },
  {
   "cell_type": "code",
   "execution_count": 35,
   "metadata": {},
   "outputs": [],
   "source": [
    "max_iterations = 100"
   ]
  },
  {
   "cell_type": "markdown",
   "metadata": {},
   "source": [
    "Now we can implement the and run the 'elbow' technique:"
   ]
  },
  {
   "cell_type": "code",
   "execution_count": 36,
   "metadata": {},
   "outputs": [],
   "source": [
    "# init the list of squared distances\n",
    "sum_of_squared_distances = []\n",
    "\n",
    "# define the range of k-values to investigate\n",
    "K = range(1,30)\n",
    "\n",
    "# iterate over all k-values\n",
    "for k in K:\n",
    "    \n",
    "    # init the k-Means clustering algorithm of the current k-value\n",
    "    kmeans = KMeans(n_clusters=k, init='random', max_iter=max_iterations)\n",
    "    \n",
    "    # run the k-Means clustering of sepal-length and sepal-width features\n",
    "    kmeans = kmeans.fit(iris.data[:,0:2])\n",
    "    \n",
    "    # collect the sum of within squared distances of the current k-value\n",
    "    sum_of_squared_distances.append(kmeans.inertia_)"
   ]
  },
  {
   "cell_type": "markdown",
   "metadata": {},
   "source": [
    "Upon completion of the loop above let's inspect the distinct within-cluster sum of squared distances $E$:"
   ]
  },
  {
   "cell_type": "code",
   "execution_count": 37,
   "metadata": {},
   "outputs": [
    {
     "data": {
      "text/plain": [
       "[130.47526666666667,\n",
       " 58.20409278906671,\n",
       " 37.05070212765958,\n",
       " 27.9902120383037,\n",
       " 21.00212598224944,\n",
       " 17.347913003663002,\n",
       " 14.891806771570838,\n",
       " 12.837974462132072,\n",
       " 11.183172799422803,\n",
       " 10.294681166056167,\n",
       " 8.820710348861668,\n",
       " 7.968905529634364,\n",
       " 7.724874385160766,\n",
       " 6.81697872689746,\n",
       " 6.063995214752568,\n",
       " 5.8730936242120455,\n",
       " 5.543469169719169,\n",
       " 5.2947278992936875,\n",
       " 4.761129870129871,\n",
       " 4.285939775910364,\n",
       " 4.4840175812749345,\n",
       " 4.02387987012987,\n",
       " 3.9484235976441857,\n",
       " 3.4911828449328457,\n",
       " 3.3014419191919195,\n",
       " 3.354781746031747,\n",
       " 3.047758658008658,\n",
       " 2.7805259740259753,\n",
       " 2.6035833333333325]"
      ]
     },
     "execution_count": 37,
     "metadata": {},
     "output_type": "execute_result"
    }
   ],
   "source": [
    "# print the collected sum of squared distances of each k\n",
    "sum_of_squared_distances"
   ]
  },
  {
   "cell_type": "markdown",
   "metadata": {},
   "source": [
    "Furthermore, let's plot the cluster number $k$ vs. the within-cluster sum of squared distances $E$:"
   ]
  },
  {
   "cell_type": "code",
   "execution_count": 38,
   "metadata": {},
   "outputs": [
    {
     "data": {
      "image/png": "[encoded data removed]",
      "text/plain": [
       "<Figure size 432x288 with 1 Axes>"
      ]
     },
     "metadata": {
      "needs_background": "light"
     },
     "output_type": "display_data"
    }
   ],
   "source": [
    "# prepare plot\n",
    "fig = plt.figure()\n",
    "ax = fig.add_subplot(111)\n",
    "\n",
    "# add grid\n",
    "ax.grid(linestyle='dotted')\n",
    "\n",
    "# plot petal length (3rd feature in the dataset) vs. petal width (4th feature in the dataset)\n",
    "ax.plot(K, sum_of_squared_distances)\n",
    "\n",
    "# add axis legends\n",
    "ax.set_xlabel(\"$k$\", fontsize=10)\n",
    "ax.set_ylabel(\"Sum Within-Cluster Distance $E$\", fontsize=10)\n",
    "\n",
    "# add plot title\n",
    "plt.title('Cluster number $k$ vs. Within-Cluster $E$', fontsize=10);"
   ]
  },
  {
   "cell_type": "markdown",
   "metadata": {},
   "source": [
    "### Exercises:"
   ]
  },
  {
   "cell_type": "markdown",
   "metadata": {},
   "source": [
    "We recommend you to try the following exercises as part of the lab:\n",
    "\n",
    "**1. Apply k-Means clustering to all four features contained in the Iris dataset.**\n",
    "\n",
    "> Use the k-Means classifier to learn a model of all four features contained in the Iris dataset, namely `Sepal length (cm)`, `Sepal width (cm)`, `Petal length (cm)` and `Petal width (cm)`."
   ]
  },
  {
   "cell_type": "code",
   "execution_count": null,
   "metadata": {},
   "outputs": [],
   "source": []
  },
  {
   "cell_type": "markdown",
   "metadata": {},
   "source": [
    "**2. Determine the optimal number of cluster values $k$ of all four features contained in the iris dataset.**\n",
    "\n",
    "> Determine the optimal number of clusters $k$ needed to cluster the observations of all four features contained in the iris dataset using the **'elbow'** technique outlined above."
   ]
  },
  {
   "cell_type": "code",
   "execution_count": null,
   "metadata": {},
   "outputs": [],
   "source": []
  },
  {
   "cell_type": "markdown",
   "metadata": {},
   "source": [
    "### Lab Summary:"
   ]
  },
  {
   "cell_type": "markdown",
   "metadata": {},
   "source": [
    "In this fourth lab, a step by step introduction into the unsupervised **k-Means Clustering** machine learning algorithm was presented. The code and exercises presented in this lab may serves as a starting point for more complex and tailored programs."
   ]
  },
  {
   "cell_type": "markdown",
   "metadata": {},
   "source": [
    "You may want to execute the content of your lab outside of the Jupyter notebook environment e.g. on compute node or server. The cell below converts the lab notebook into a standalone and executable python script."
   ]
  },
  {
   "cell_type": "code",
   "execution_count": 39,
   "metadata": {},
   "outputs": [
    {
     "name": "stdout",
     "output_type": "stream",
     "text": [
      "[NbConvertApp] Converting notebook cfds_lab_04.ipynb to script\n",
      "[NbConvertApp] Writing 19935 bytes to cfds_lab_04.py\n"
     ]
    }
   ],
   "source": [
    "!jupyter nbconvert --to script cfds_lab_04.ipynb"
   ]
  },
  {
   "cell_type": "markdown",
   "metadata": {},
   "source": [
    "**Note:** In order to execute the statement above and convert your lab notebook to a regular Python script you first need to install the nbconvert Python package e.g. using the pip package installer. "
   ]
  },
  {
   "cell_type": "code",
   "execution_count": null,
   "metadata": {},
   "outputs": [],
   "source": []
  }
 ],
 "metadata": {
  "kernelspec": {
   "display_name": "Python 3",
   "language": "python",
   "name": "python3"
  },
  "language_info": {
   "codemirror_mode": {
    "name": "ipython",
    "version": 3
   },
   "file_extension": ".py",
   "mimetype": "text/x-python",
   "name": "python",
   "nbconvert_exporter": "python",
   "pygments_lexer": "ipython3",
   "version": "3.7.0"
  }
 },
 "nbformat": 4,
 "nbformat_minor": 2
}
