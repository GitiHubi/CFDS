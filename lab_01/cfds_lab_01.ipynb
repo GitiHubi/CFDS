{
 "cells": [
  {
   "cell_type": "code",
   "execution_count": 1,
   "metadata": {},
   "outputs": [],
   "source": [
    "#-*- coding: utf-8 -*-"
   ]
  },
  {
   "cell_type": "markdown",
   "metadata": {},
   "source": [
    "<img align=\"right\" style=\"max-width: 200px; height: auto\" src=\"images/cfds_logo.png\">\n",
    "\n",
    "###  Lab 01 - \"Introduction to the Lab Environment\"\n",
    "\n",
    "Chartered Financial Data Scientist (CFDS), Spring Term 2019"
   ]
  },
  {
   "cell_type": "markdown",
   "metadata": {},
   "source": [
    "The lab environment of the **\"Chartered Financial Data Scientist (CFDS)\"** course is powered by Jupyter Notebooks (https://jupyter.org), which allow one to perform a great deal of data analysis and statistical validation. In this first lab we want to touch on the basic concepts and techniques of such notebooks. Furthermore, its capabilities will be demonstrated based on a few simple and introductory examples."
   ]
  },
  {
   "cell_type": "markdown",
   "metadata": {},
   "source": [
    "### Lab Objectives:"
   ]
  },
  {
   "cell_type": "markdown",
   "metadata": {},
   "source": [
    "After today's lab you should be able to:\n",
    "    \n",
    "> 1. Understand the general workflow, structure and functionality of **Jupyter** notebooks.\n",
    "> 2. Import and apply python data science libraries such as **numpy** and **pandas**. \n",
    "> 3. Understand how the **python** programming language can be utilized to manipulate and analyse financial data.\n",
    "> 4. Download arbitrary stock market and financial data using the **Quandl** Python API.\n",
    "> 5. Use the **Matplotlib** library to visualise data as well as anlytical results."
   ]
  },
  {
   "cell_type": "markdown",
   "metadata": {},
   "source": [
    "Note: The content of this first lab is inspired by the Quantopian lecture series (https://www.quantopian.com/lectures). If you are interested to learn more about financial data science and/or algorithmic trading their lectures are a great resource to get you started."
   ]
  },
  {
   "cell_type": "markdown",
   "metadata": {},
   "source": [
    "### 1. Jupyter Notebook Introduction"
   ]
  },
  {
   "cell_type": "markdown",
   "metadata": {},
   "source": [
    "#### Code Cells vs. Text Cells"
   ]
  },
  {
   "cell_type": "markdown",
   "metadata": {},
   "source": [
    "As you can see, each cell can be either code or text. To select between them, choose from the 'Cell Type' dropdown menu on the top left."
   ]
  },
  {
   "cell_type": "markdown",
   "metadata": {},
   "source": [
    "Hello World!"
   ]
  },
  {
   "cell_type": "code",
   "execution_count": 2,
   "metadata": {},
   "outputs": [
    {
     "data": {
      "text/plain": [
       "2"
      ]
     },
     "execution_count": 2,
     "metadata": {},
     "output_type": "execute_result"
    }
   ],
   "source": [
    "1 + 1"
   ]
  },
  {
   "cell_type": "markdown",
   "metadata": {},
   "source": [
    "#### Executing a Command"
   ]
  },
  {
   "cell_type": "markdown",
   "metadata": {},
   "source": [
    "A code cell will be evaluated when you press **'Run'**, or when you press the shortcut, shift-enter. Evaluating a cell evaluates each line of code in sequence, and prints the results of the last line below the cell."
   ]
  },
  {
   "cell_type": "code",
   "execution_count": 3,
   "metadata": {},
   "outputs": [
    {
     "data": {
      "text/plain": [
       "42"
      ]
     },
     "execution_count": 3,
     "metadata": {},
     "output_type": "execute_result"
    }
   ],
   "source": [
    "40 + 2"
   ]
  },
  {
   "cell_type": "markdown",
   "metadata": {},
   "source": [
    "Sometimes there is no result to be printed, as is the case with assignment."
   ]
  },
  {
   "cell_type": "code",
   "execution_count": 4,
   "metadata": {},
   "outputs": [],
   "source": [
    "X = 2"
   ]
  },
  {
   "cell_type": "code",
   "execution_count": 5,
   "metadata": {},
   "outputs": [
    {
     "data": {
      "text/plain": [
       "2"
      ]
     },
     "execution_count": 5,
     "metadata": {},
     "output_type": "execute_result"
    }
   ],
   "source": [
    "X"
   ]
  },
  {
   "cell_type": "markdown",
   "metadata": {},
   "source": [
    "Remember that only the result from the last line is printed."
   ]
  },
  {
   "cell_type": "code",
   "execution_count": 6,
   "metadata": {},
   "outputs": [
    {
     "data": {
      "text/plain": [
       "6"
      ]
     },
     "execution_count": 6,
     "metadata": {},
     "output_type": "execute_result"
    }
   ],
   "source": [
    "2 + 2\n",
    "3 + 3"
   ]
  },
  {
   "cell_type": "markdown",
   "metadata": {},
   "source": [
    "However, you can print whichever lines you want using the print statement."
   ]
  },
  {
   "cell_type": "code",
   "execution_count": 7,
   "metadata": {},
   "outputs": [
    {
     "name": "stdout",
     "output_type": "stream",
     "text": [
      "4\n"
     ]
    },
    {
     "data": {
      "text/plain": [
       "6"
      ]
     },
     "execution_count": 7,
     "metadata": {},
     "output_type": "execute_result"
    }
   ],
   "source": [
    "print(2 + 2)\n",
    "3 + 3"
   ]
  },
  {
   "cell_type": "markdown",
   "metadata": {},
   "source": [
    "#### Knowing When a Cell is Running"
   ]
  },
  {
   "cell_type": "markdown",
   "metadata": {},
   "source": [
    "While a cell is running, a **[*]** will be displayed on the left of the respective cell. When a cell has yet to be executed, **[ ]** will be displayed. When it has been run, a number will display indicating the order in which it was run during the execution of the notebook **[5]**. Try on this cell and note it happening."
   ]
  },
  {
   "cell_type": "code",
   "execution_count": 8,
   "metadata": {},
   "outputs": [
    {
     "data": {
      "text/plain": [
       "49999995000000"
      ]
     },
     "execution_count": 8,
     "metadata": {},
     "output_type": "execute_result"
    }
   ],
   "source": [
    "# take some time to run something\n",
    "c = 0\n",
    "for i in range(10000000):\n",
    "    c = c + i\n",
    "c"
   ]
  },
  {
   "cell_type": "markdown",
   "metadata": {},
   "source": [
    "### 2. Importing Python Libraries"
   ]
  },
  {
   "cell_type": "markdown",
   "metadata": {},
   "source": [
    "The vast majority of the time, we will use functions from pre-built libraries, such as:"
   ]
  },
  {
   "cell_type": "code",
   "execution_count": 9,
   "metadata": {},
   "outputs": [],
   "source": [
    "# importing the python sys library\n",
    "import sys"
   ]
  },
  {
   "cell_type": "markdown",
   "metadata": {},
   "source": [
    "You can check your Python version at the command line by running:"
   ]
  },
  {
   "cell_type": "code",
   "execution_count": 10,
   "metadata": {},
   "outputs": [
    {
     "data": {
      "text/plain": [
       "'3.7.0 (default, Oct  2 2018, 09:20:07) \\n[Clang 10.0.0 (clang-1000.11.45.2)]'"
      ]
     },
     "execution_count": 10,
     "metadata": {},
     "output_type": "execute_result"
    }
   ],
   "source": [
    "# determine the python system version\n",
    "sys.version"
   ]
  },
  {
   "cell_type": "markdown",
   "metadata": {},
   "source": [
    "You can't import every library on the lab environment due to security issues, however you can import most of the common scientific ones. Here we import the libraries `numpy` (https://www.numpy.org) and `pandas` (https://pandas.pydata.org), two of the most common and useful libraries in data science. We recommend copying this import statement to every new notebook that you will create."
   ]
  },
  {
   "cell_type": "code",
   "execution_count": 11,
   "metadata": {},
   "outputs": [],
   "source": [
    "# import the number and pandas data science libraries\n",
    "import numpy \n",
    "import pandas"
   ]
  },
  {
   "cell_type": "markdown",
   "metadata": {},
   "source": [
    "Let's now use the numpy library to calculate the mean of a list of numbers:"
   ]
  },
  {
   "cell_type": "code",
   "execution_count": 12,
   "metadata": {},
   "outputs": [
    {
     "data": {
      "text/plain": [
       "2.5"
      ]
     },
     "execution_count": 12,
     "metadata": {},
     "output_type": "execute_result"
    }
   ],
   "source": [
    "numpy.mean([1, 2, 3, 4])"
   ]
  },
  {
   "cell_type": "markdown",
   "metadata": {},
   "source": [
    "Notice, that you can rename libraries to whatever you want after importing. The as statement allows this. Here we use `np` and `pd` as aliases for both the pre-built numpy and pandas libraries. This is a very common aliasing and will be found in most code snippets around the web. The idea behind this is to allow you to type fewer characters when you are frequently accessing these libraries."
   ]
  },
  {
   "cell_type": "code",
   "execution_count": 13,
   "metadata": {},
   "outputs": [],
   "source": [
    "# importing the numpy and pandas data science libraries using aliases\n",
    "import numpy as np\n",
    "import pandas as pd"
   ]
  },
  {
   "cell_type": "markdown",
   "metadata": {},
   "source": [
    "Let's now use the numpy library to calculate the mean of a list of numbers:"
   ]
  },
  {
   "cell_type": "code",
   "execution_count": 14,
   "metadata": {},
   "outputs": [
    {
     "data": {
      "text/plain": [
       "2.5"
      ]
     },
     "execution_count": 14,
     "metadata": {},
     "output_type": "execute_result"
    }
   ],
   "source": [
    "np.mean([1, 2, 3, 4])"
   ]
  },
  {
   "cell_type": "markdown",
   "metadata": {},
   "source": [
    "### 3. Code Completion and Documentation"
   ]
  },
  {
   "cell_type": "markdown",
   "metadata": {},
   "source": [
    "#### Autocomplete Code"
   ]
  },
  {
   "cell_type": "markdown",
   "metadata": {},
   "source": [
    "Pressing tab will give you a list of Jupyter's best guesses for what you might want to type next. This is incredibly valuable and will save you a lot of time. If there is only one possible option for what you could type next, Jupyter will fill that in for you. Try pressing tab very frequently, it will seldom fill in anything you don't want, as if there is ambiguity a list will be shown. This is a great way to see what functions are available in a library.\n",
    "\n",
    "Try placing your cursor after the . and press the `tab` key on your keyboard."
   ]
  },
  {
   "cell_type": "code",
   "execution_count": 15,
   "metadata": {},
   "outputs": [],
   "source": [
    "#np.random."
   ]
  },
  {
   "cell_type": "markdown",
   "metadata": {},
   "source": [
    "#### Documentation Help"
   ]
  },
  {
   "cell_type": "markdown",
   "metadata": {},
   "source": [
    "Placing a question mark after a function and executing that line of code will give you the documentation Jupyter has for that function. It's often best to do this in a new cell, as you avoid re-executing other code and running into bugs."
   ]
  },
  {
   "cell_type": "code",
   "execution_count": 16,
   "metadata": {},
   "outputs": [],
   "source": [
    "#np.random.normal?"
   ]
  },
  {
   "cell_type": "markdown",
   "metadata": {},
   "source": [
    "### 4. Plotting Data "
   ]
  },
  {
   "cell_type": "markdown",
   "metadata": {},
   "source": [
    "#### Random Data Sampling"
   ]
  },
  {
   "cell_type": "markdown",
   "metadata": {},
   "source": [
    "Let's' sample some random data using a function from numpy."
   ]
  },
  {
   "cell_type": "code",
   "execution_count": 17,
   "metadata": {},
   "outputs": [],
   "source": [
    "# sample 100 points with a mean of 0 and an std of 1. This is a standard normal distribution.\n",
    "X = np.random.normal(0, 1, 100)"
   ]
  },
  {
   "cell_type": "code",
   "execution_count": 18,
   "metadata": {},
   "outputs": [
    {
     "data": {
      "text/plain": [
       "array([ 0.74689691,  0.66247883, -1.10866752, -1.18329505,  0.18514057,\n",
       "       -0.97849583, -0.80641136, -0.52964317,  0.87789952, -1.96443316,\n",
       "       -0.85274875,  0.84016967, -0.48320402, -2.07167643, -0.27523221,\n",
       "       -0.40604267,  1.62158813,  1.13871747,  0.38385425, -1.58687831,\n",
       "       -0.92016286,  1.09065287, -0.14931193,  2.01387571,  0.39723904,\n",
       "       -0.24621674, -0.88750202, -0.84844441, -0.30217666, -3.22110166,\n",
       "       -0.466153  , -0.32908043,  0.05691368,  1.49805756,  0.34024081,\n",
       "       -1.11894352, -0.62383277,  1.43292276, -1.28217028, -1.41876355,\n",
       "        0.62284275, -0.84694125, -1.14038126, -1.04099534,  0.17432983,\n",
       "       -0.37045315,  0.19272272,  0.53052311,  0.6701608 ,  0.8450299 ,\n",
       "        0.01738894, -0.24569172,  0.12988531, -3.00182518,  0.43088949,\n",
       "       -1.19824792,  0.60721702,  1.42465901,  0.91635254,  0.67704489,\n",
       "       -2.58523679,  0.02329104,  1.33417516,  0.86238697,  0.63644559,\n",
       "       -0.55776394,  0.71108885, -0.9382841 ,  1.19360111,  0.54273009,\n",
       "        1.12866215, -0.95794851,  0.10836881,  0.02563881,  0.04045746,\n",
       "       -0.71719813, -0.38337727, -0.05509375, -3.65233112, -2.88452725,\n",
       "       -0.86137608, -1.78519166, -1.13852296, -0.23912395, -0.39403094,\n",
       "        1.92692701, -1.77440743,  0.87542371,  0.75746837,  1.95173146,\n",
       "       -0.5659154 , -0.18773257,  0.05282885,  0.27779587,  0.67687317,\n",
       "       -0.49152898,  0.34109361,  1.62159409, -2.37358537,  0.80122568])"
      ]
     },
     "execution_count": 18,
     "metadata": {},
     "output_type": "execute_result"
    }
   ],
   "source": [
    "X"
   ]
  },
  {
   "cell_type": "markdown",
   "metadata": {},
   "source": [
    "#### Data Plotting"
   ]
  },
  {
   "cell_type": "markdown",
   "metadata": {},
   "source": [
    "Python's `Matplotlib` library (https://matplotlib.org) is a very flexible library and has a lot of handy, built-in defaults that will help you out tremendously. \n",
    "\n",
    "As such, you don’t need much to get started: you need to make the necessary imports, prepare some data, and you can start plotting with the help of the `plot()` function. Let's have a look."
   ]
  },
  {
   "cell_type": "markdown",
   "metadata": {},
   "source": [
    "Let's import Matplotlib by running the following statements:"
   ]
  },
  {
   "cell_type": "code",
   "execution_count": 19,
   "metadata": {},
   "outputs": [],
   "source": [
    "# importing the matplotlib plotting library\n",
    "import matplotlib.pyplot as plt\n",
    "from pandas.plotting import register_matplotlib_converters\n",
    "register_matplotlib_converters()"
   ]
  },
  {
   "cell_type": "markdown",
   "metadata": {},
   "source": [
    "Note that we imported the `pyplot` module of the `Matplotlib` library under the alias `plt`."
   ]
  },
  {
   "cell_type": "markdown",
   "metadata": {},
   "source": [
    "We can now use the plotting functionality provided by Matplotlib as follows:"
   ]
  },
  {
   "cell_type": "code",
   "execution_count": 20,
   "metadata": {},
   "outputs": [
    {
     "data": {
      "text/plain": [
       "[<matplotlib.lines.Line2D at 0x115ca3438>]"
      ]
     },
     "execution_count": 20,
     "metadata": {},
     "output_type": "execute_result"
    },
    {
     "data": {
      "image/png": "[encoded data removed]",
      "text/plain": [
       "<Figure size 432x288 with 1 Axes>"
      ]
     },
     "metadata": {
      "needs_background": "light"
     },
     "output_type": "display_data"
    }
   ],
   "source": [
    "plt.plot(X)"
   ]
  },
  {
   "cell_type": "markdown",
   "metadata": {},
   "source": [
    "Let's apply some variations as well as the axis legends to our plot:"
   ]
  },
  {
   "cell_type": "code",
   "execution_count": 21,
   "metadata": {
    "scrolled": true
   },
   "outputs": [
    {
     "data": {
      "text/plain": [
       "Text(0, 0.5, 'value')"
      ]
     },
     "execution_count": 21,
     "metadata": {},
     "output_type": "execute_result"
    },
    {
     "data": {
      "image/png": "[encoded data removed]",
      "text/plain": [
       "<Figure size 432x288 with 1 Axes>"
      ]
     },
     "metadata": {
      "needs_background": "light"
     },
     "output_type": "display_data"
    }
   ],
   "source": [
    "plt.plot(X, linewidth=3, linestyle=\"--\")\n",
    "\n",
    "# set label and title details\n",
    "plt.xlabel('sample', weight='normal', fontsize=8)\n",
    "plt.ylabel('value', weight='normal', fontsize=8)"
   ]
  },
  {
   "cell_type": "markdown",
   "metadata": {},
   "source": [
    "#### Remove Line Output"
   ]
  },
  {
   "cell_type": "markdown",
   "metadata": {},
   "source": [
    "You might have noticed a smiliar annoying line of the form: `[<matplotlib.lines.Line2D at 0x10a4cce90>]` before the created plot. If you wish to get rid of this output just end you plot statement using a semi colon:"
   ]
  },
  {
   "cell_type": "code",
   "execution_count": 22,
   "metadata": {},
   "outputs": [
    {
     "data": {
      "image/png": "[encoded data removed]",
      "text/plain": [
       "<Figure size 432x288 with 1 Axes>"
      ]
     },
     "metadata": {
      "needs_background": "light"
     },
     "output_type": "display_data"
    }
   ],
   "source": [
    "plt.plot(X);"
   ]
  },
  {
   "cell_type": "markdown",
   "metadata": {},
   "source": [
    "#### Adding Axis Labels"
   ]
  },
  {
   "cell_type": "markdown",
   "metadata": {},
   "source": [
    "No self-respecting quantitative analyst leaves a graph without labeled axes. Here are some commands to help with that."
   ]
  },
  {
   "cell_type": "code",
   "execution_count": 23,
   "metadata": {},
   "outputs": [],
   "source": [
    "# sample 100 points twice with a mean of 0 and an std of 1 from a standard normal distribution.\n",
    "X1 = np.random.normal(0, 1, 100)\n",
    "X2 = np.random.normal(0, 1, 100)"
   ]
  },
  {
   "cell_type": "code",
   "execution_count": 24,
   "metadata": {},
   "outputs": [
    {
     "data": {
      "image/png": "[encoded data removed]",
      "text/plain": [
       "<Figure size 432x288 with 1 Axes>"
      ]
     },
     "metadata": {
      "needs_background": "light"
     },
     "output_type": "display_data"
    }
   ],
   "source": [
    "# plot both sample results\n",
    "plt.plot(X1);\n",
    "plt.plot(X2);\n",
    "\n",
    "# add x-axis and y-axis label \n",
    "plt.xlabel('Time')\n",
    "plt.ylabel('Returns')\n",
    "\n",
    "# add plot legend\n",
    "plt.legend(['X1', 'X2'])\n",
    "\n",
    "# add plot title\n",
    "plt.title('Sample Returns X1 and X2');"
   ]
  },
  {
   "cell_type": "markdown",
   "metadata": {},
   "source": [
    "### 5. Generating Statistics"
   ]
  },
  {
   "cell_type": "markdown",
   "metadata": {},
   "source": [
    "Let's use `numpy` to take some simple statistics like the mean of the generated samples:"
   ]
  },
  {
   "cell_type": "code",
   "execution_count": 25,
   "metadata": {},
   "outputs": [
    {
     "data": {
      "text/plain": [
       "0.11797758258371499"
      ]
     },
     "execution_count": 25,
     "metadata": {},
     "output_type": "execute_result"
    }
   ],
   "source": [
    "np.mean(X1)"
   ]
  },
  {
   "cell_type": "markdown",
   "metadata": {},
   "source": [
    "and their corresponding standard deviation:"
   ]
  },
  {
   "cell_type": "code",
   "execution_count": 26,
   "metadata": {},
   "outputs": [
    {
     "data": {
      "text/plain": [
       "0.9149140159232052"
      ]
     },
     "execution_count": 26,
     "metadata": {},
     "output_type": "execute_result"
    }
   ],
   "source": [
    "np.std(X1)"
   ]
  },
  {
   "cell_type": "markdown",
   "metadata": {},
   "source": [
    "### 6. Collect and Plot Real Pricing Data"
   ]
  },
  {
   "cell_type": "markdown",
   "metadata": {},
   "source": [
    "One of the first step to any data science project is usually to import your data. Randomly sampled data can be great for testing ideas, but let's now import some real financial market data. \n",
    "\n",
    "As part of the `Labs` section of the **Certified Financial Data Scientist** course homepage, you will find a \"Comma Separated Value (CSV)\" file named `sample_google_data_daily.csv`. The file contains the daily stock market data of the **Alphabet (Google) Inc.** stock within the time frame `31-12-2015` till `31-12-2017`. Pls. download the data and copy it to the same directory as this Jupyter Notebook."
   ]
  },
  {
   "cell_type": "markdown",
   "metadata": {},
   "source": [
    "One you completed the download you're ready to import the file into Python using the `read_csv()` function of the `pandas` library by running the following statement:"
   ]
  },
  {
   "cell_type": "code",
   "execution_count": 27,
   "metadata": {},
   "outputs": [],
   "source": [
    "alphabet_data = pd.read_csv('data/sample_google_data_daily.csv', sep=';')"
   ]
  },
  {
   "cell_type": "markdown",
   "metadata": {},
   "source": [
    "The retrieved data is so called `pandas` `DataFrame`. You can see the datetime index and the columns with different pricing data. Let's inspect the top 5 rows of the imported data using the `head()` function of the `pandas` library: "
   ]
  },
  {
   "cell_type": "code",
   "execution_count": 28,
   "metadata": {},
   "outputs": [
    {
     "data": {
      "text/html": [
       "<div>\n",
       "<style scoped>\n",
       "    .dataframe tbody tr th:only-of-type {\n",
       "        vertical-align: middle;\n",
       "    }\n",
       "\n",
       "    .dataframe tbody tr th {\n",
       "        vertical-align: top;\n",
       "    }\n",
       "\n",
       "    .dataframe thead th {\n",
       "        text-align: right;\n",
       "    }\n",
       "</style>\n",
       "<table border=\"1\" class=\"dataframe\">\n",
       "  <thead>\n",
       "    <tr style=\"text-align: right;\">\n",
       "      <th></th>\n",
       "      <th>Date</th>\n",
       "      <th>Open</th>\n",
       "      <th>High</th>\n",
       "      <th>Low</th>\n",
       "      <th>Close</th>\n",
       "      <th>Volume</th>\n",
       "      <th>Ex-Dividend</th>\n",
       "      <th>Split Ratio</th>\n",
       "      <th>Adj. Open</th>\n",
       "      <th>Adj. High</th>\n",
       "      <th>Adj. Low</th>\n",
       "      <th>Adj. Close</th>\n",
       "      <th>Adj. Volume</th>\n",
       "    </tr>\n",
       "  </thead>\n",
       "  <tbody>\n",
       "    <tr>\n",
       "      <th>0</th>\n",
       "      <td>2015-12-31</td>\n",
       "      <td>787.82</td>\n",
       "      <td>788.33</td>\n",
       "      <td>777.32</td>\n",
       "      <td>778.01</td>\n",
       "      <td>1637561.0</td>\n",
       "      <td>0.0</td>\n",
       "      <td>1.0</td>\n",
       "      <td>787.82</td>\n",
       "      <td>788.33</td>\n",
       "      <td>777.32</td>\n",
       "      <td>778.01</td>\n",
       "      <td>1637561.0</td>\n",
       "    </tr>\n",
       "    <tr>\n",
       "      <th>1</th>\n",
       "      <td>2016-01-04</td>\n",
       "      <td>762.20</td>\n",
       "      <td>762.20</td>\n",
       "      <td>747.54</td>\n",
       "      <td>759.44</td>\n",
       "      <td>3369068.0</td>\n",
       "      <td>0.0</td>\n",
       "      <td>1.0</td>\n",
       "      <td>762.20</td>\n",
       "      <td>762.20</td>\n",
       "      <td>747.54</td>\n",
       "      <td>759.44</td>\n",
       "      <td>3369068.0</td>\n",
       "    </tr>\n",
       "    <tr>\n",
       "      <th>2</th>\n",
       "      <td>2016-01-05</td>\n",
       "      <td>764.10</td>\n",
       "      <td>769.20</td>\n",
       "      <td>755.65</td>\n",
       "      <td>761.53</td>\n",
       "      <td>2260795.0</td>\n",
       "      <td>0.0</td>\n",
       "      <td>1.0</td>\n",
       "      <td>764.10</td>\n",
       "      <td>769.20</td>\n",
       "      <td>755.65</td>\n",
       "      <td>761.53</td>\n",
       "      <td>2260795.0</td>\n",
       "    </tr>\n",
       "    <tr>\n",
       "      <th>3</th>\n",
       "      <td>2016-01-06</td>\n",
       "      <td>750.37</td>\n",
       "      <td>765.73</td>\n",
       "      <td>748.00</td>\n",
       "      <td>759.33</td>\n",
       "      <td>2410301.0</td>\n",
       "      <td>0.0</td>\n",
       "      <td>1.0</td>\n",
       "      <td>750.37</td>\n",
       "      <td>765.73</td>\n",
       "      <td>748.00</td>\n",
       "      <td>759.33</td>\n",
       "      <td>2410301.0</td>\n",
       "    </tr>\n",
       "    <tr>\n",
       "      <th>4</th>\n",
       "      <td>2016-01-07</td>\n",
       "      <td>746.49</td>\n",
       "      <td>755.31</td>\n",
       "      <td>735.28</td>\n",
       "      <td>741.00</td>\n",
       "      <td>3156563.0</td>\n",
       "      <td>0.0</td>\n",
       "      <td>1.0</td>\n",
       "      <td>746.49</td>\n",
       "      <td>755.31</td>\n",
       "      <td>735.28</td>\n",
       "      <td>741.00</td>\n",
       "      <td>3156563.0</td>\n",
       "    </tr>\n",
       "  </tbody>\n",
       "</table>\n",
       "</div>"
      ],
      "text/plain": [
       "         Date    Open    High     Low   Close     Volume  Ex-Dividend  \\\n",
       "0  2015-12-31  787.82  788.33  777.32  778.01  1637561.0          0.0   \n",
       "1  2016-01-04  762.20  762.20  747.54  759.44  3369068.0          0.0   \n",
       "2  2016-01-05  764.10  769.20  755.65  761.53  2260795.0          0.0   \n",
       "3  2016-01-06  750.37  765.73  748.00  759.33  2410301.0          0.0   \n",
       "4  2016-01-07  746.49  755.31  735.28  741.00  3156563.0          0.0   \n",
       "\n",
       "   Split Ratio  Adj. Open  Adj. High  Adj. Low  Adj. Close  Adj. Volume  \n",
       "0          1.0     787.82     788.33    777.32      778.01    1637561.0  \n",
       "1          1.0     762.20     762.20    747.54      759.44    3369068.0  \n",
       "2          1.0     764.10     769.20    755.65      761.53    2260795.0  \n",
       "3          1.0     750.37     765.73    748.00      759.33    2410301.0  \n",
       "4          1.0     746.49     755.31    735.28      741.00    3156563.0  "
      ]
     },
     "execution_count": 28,
     "metadata": {},
     "output_type": "execute_result"
    }
   ],
   "source": [
    "alphabet_data.head(5)"
   ]
  },
  {
   "cell_type": "markdown",
   "metadata": {},
   "source": [
    "Looks good, right?"
   ]
  },
  {
   "cell_type": "markdown",
   "metadata": {},
   "source": [
    "It's great to import data that was already collected and stored accordingly. Unfortunately, in real data science projects we are often challenged to retrieve the data from a variety of sources e.g. the web. But were to get financial data of good quality? A great source for retrieving such data can be found in `Quandl`(https://www.quandl.com). `Quandl` is a platform for financial, economic, and alternative data. \n",
    "\n",
    "A nice feature of `Quandl` is that a lot of their data is accessible through packages for multiple programming languages including Python. Let's give it a try and retrieve some market data using `Quandl`. But before we can do that we need to install and import the `quandl` python library:"
   ]
  },
  {
   "cell_type": "code",
   "execution_count": 29,
   "metadata": {},
   "outputs": [],
   "source": [
    "import quandl as ql\n",
    "import datetime as dt"
   ]
  },
  {
   "cell_type": "markdown",
   "metadata": {},
   "source": [
    "Init the `Quandl` financial data download API and set your corresponding `Quandl` API key:"
   ]
  },
  {
   "cell_type": "code",
   "execution_count": 30,
   "metadata": {},
   "outputs": [],
   "source": [
    "ql.ApiConfig.api_key = '<enter you own quandl api code here>'"
   ]
  },
  {
   "cell_type": "markdown",
   "metadata": {},
   "source": [
    "Specify both the `start` and `end` date of the data download:"
   ]
  },
  {
   "cell_type": "code",
   "execution_count": 31,
   "metadata": {},
   "outputs": [],
   "source": [
    "start_date = dt.datetime(2015, 12, 31)\n",
    "end_date = dt.datetime(2017, 12, 31)"
   ]
  },
  {
   "cell_type": "markdown",
   "metadata": {},
   "source": [
    "Download the daily **Tesla Inc.** (ticker symbol: TSLA) stock data using the `.get` method of the `Quandl's` financial data library: "
   ]
  },
  {
   "cell_type": "code",
   "execution_count": 32,
   "metadata": {},
   "outputs": [],
   "source": [
    "# download tesla market data\n",
    "tesla_data = ql.get('WIKI/TSLA', start_date=start_date, end_date=end_date, collapse='daily')"
   ]
  },
  {
   "cell_type": "markdown",
   "metadata": {},
   "source": [
    "We again retrieved the data as a `pandas` `dataframe` but this time using the `Quandl` data library. Let's inspect the top 5 rows of the imported data using the `head()` function of the `pandas` library:"
   ]
  },
  {
   "cell_type": "code",
   "execution_count": 33,
   "metadata": {},
   "outputs": [
    {
     "data": {
      "text/html": [
       "<div>\n",
       "<style scoped>\n",
       "    .dataframe tbody tr th:only-of-type {\n",
       "        vertical-align: middle;\n",
       "    }\n",
       "\n",
       "    .dataframe tbody tr th {\n",
       "        vertical-align: top;\n",
       "    }\n",
       "\n",
       "    .dataframe thead th {\n",
       "        text-align: right;\n",
       "    }\n",
       "</style>\n",
       "<table border=\"1\" class=\"dataframe\">\n",
       "  <thead>\n",
       "    <tr style=\"text-align: right;\">\n",
       "      <th></th>\n",
       "      <th>Open</th>\n",
       "      <th>High</th>\n",
       "      <th>Low</th>\n",
       "      <th>Close</th>\n",
       "      <th>Volume</th>\n",
       "      <th>Ex-Dividend</th>\n",
       "      <th>Split Ratio</th>\n",
       "      <th>Adj. Open</th>\n",
       "      <th>Adj. High</th>\n",
       "      <th>Adj. Low</th>\n",
       "      <th>Adj. Close</th>\n",
       "      <th>Adj. Volume</th>\n",
       "    </tr>\n",
       "    <tr>\n",
       "      <th>Date</th>\n",
       "      <th></th>\n",
       "      <th></th>\n",
       "      <th></th>\n",
       "      <th></th>\n",
       "      <th></th>\n",
       "      <th></th>\n",
       "      <th></th>\n",
       "      <th></th>\n",
       "      <th></th>\n",
       "      <th></th>\n",
       "      <th></th>\n",
       "      <th></th>\n",
       "    </tr>\n",
       "  </thead>\n",
       "  <tbody>\n",
       "    <tr>\n",
       "      <th>2015-12-31</th>\n",
       "      <td>238.51</td>\n",
       "      <td>243.45</td>\n",
       "      <td>238.37</td>\n",
       "      <td>240.01</td>\n",
       "      <td>2715038.0</td>\n",
       "      <td>0.0</td>\n",
       "      <td>1.0</td>\n",
       "      <td>238.51</td>\n",
       "      <td>243.45</td>\n",
       "      <td>238.37</td>\n",
       "      <td>240.01</td>\n",
       "      <td>2715038.0</td>\n",
       "    </tr>\n",
       "    <tr>\n",
       "      <th>2016-01-04</th>\n",
       "      <td>230.72</td>\n",
       "      <td>231.38</td>\n",
       "      <td>219.00</td>\n",
       "      <td>223.41</td>\n",
       "      <td>6827146.0</td>\n",
       "      <td>0.0</td>\n",
       "      <td>1.0</td>\n",
       "      <td>230.72</td>\n",
       "      <td>231.38</td>\n",
       "      <td>219.00</td>\n",
       "      <td>223.41</td>\n",
       "      <td>6827146.0</td>\n",
       "    </tr>\n",
       "    <tr>\n",
       "      <th>2016-01-05</th>\n",
       "      <td>226.36</td>\n",
       "      <td>226.89</td>\n",
       "      <td>220.00</td>\n",
       "      <td>223.43</td>\n",
       "      <td>3186752.0</td>\n",
       "      <td>0.0</td>\n",
       "      <td>1.0</td>\n",
       "      <td>226.36</td>\n",
       "      <td>226.89</td>\n",
       "      <td>220.00</td>\n",
       "      <td>223.43</td>\n",
       "      <td>3186752.0</td>\n",
       "    </tr>\n",
       "    <tr>\n",
       "      <th>2016-01-06</th>\n",
       "      <td>220.00</td>\n",
       "      <td>220.05</td>\n",
       "      <td>215.98</td>\n",
       "      <td>219.04</td>\n",
       "      <td>3779128.0</td>\n",
       "      <td>0.0</td>\n",
       "      <td>1.0</td>\n",
       "      <td>220.00</td>\n",
       "      <td>220.05</td>\n",
       "      <td>215.98</td>\n",
       "      <td>219.04</td>\n",
       "      <td>3779128.0</td>\n",
       "    </tr>\n",
       "    <tr>\n",
       "      <th>2016-01-07</th>\n",
       "      <td>214.19</td>\n",
       "      <td>218.44</td>\n",
       "      <td>213.67</td>\n",
       "      <td>215.65</td>\n",
       "      <td>3554251.0</td>\n",
       "      <td>0.0</td>\n",
       "      <td>1.0</td>\n",
       "      <td>214.19</td>\n",
       "      <td>218.44</td>\n",
       "      <td>213.67</td>\n",
       "      <td>215.65</td>\n",
       "      <td>3554251.0</td>\n",
       "    </tr>\n",
       "  </tbody>\n",
       "</table>\n",
       "</div>"
      ],
      "text/plain": [
       "              Open    High     Low   Close     Volume  Ex-Dividend  \\\n",
       "Date                                                                 \n",
       "2015-12-31  238.51  243.45  238.37  240.01  2715038.0          0.0   \n",
       "2016-01-04  230.72  231.38  219.00  223.41  6827146.0          0.0   \n",
       "2016-01-05  226.36  226.89  220.00  223.43  3186752.0          0.0   \n",
       "2016-01-06  220.00  220.05  215.98  219.04  3779128.0          0.0   \n",
       "2016-01-07  214.19  218.44  213.67  215.65  3554251.0          0.0   \n",
       "\n",
       "            Split Ratio  Adj. Open  Adj. High  Adj. Low  Adj. Close  \\\n",
       "Date                                                                  \n",
       "2015-12-31          1.0     238.51     243.45    238.37      240.01   \n",
       "2016-01-04          1.0     230.72     231.38    219.00      223.41   \n",
       "2016-01-05          1.0     226.36     226.89    220.00      223.43   \n",
       "2016-01-06          1.0     220.00     220.05    215.98      219.04   \n",
       "2016-01-07          1.0     214.19     218.44    213.67      215.65   \n",
       "\n",
       "            Adj. Volume  \n",
       "Date                     \n",
       "2015-12-31    2715038.0  \n",
       "2016-01-04    6827146.0  \n",
       "2016-01-05    3186752.0  \n",
       "2016-01-06    3779128.0  \n",
       "2016-01-07    3554251.0  "
      ]
     },
     "execution_count": 33,
     "metadata": {},
     "output_type": "execute_result"
    }
   ],
   "source": [
    "tesla_data.head(5)"
   ]
  },
  {
   "cell_type": "markdown",
   "metadata": {},
   "source": [
    "In order to obtain an initial understanding of the date retrieved let us have a look at some basic data statistics:"
   ]
  },
  {
   "cell_type": "code",
   "execution_count": 34,
   "metadata": {},
   "outputs": [
    {
     "data": {
      "text/html": [
       "<div>\n",
       "<style scoped>\n",
       "    .dataframe tbody tr th:only-of-type {\n",
       "        vertical-align: middle;\n",
       "    }\n",
       "\n",
       "    .dataframe tbody tr th {\n",
       "        vertical-align: top;\n",
       "    }\n",
       "\n",
       "    .dataframe thead th {\n",
       "        text-align: right;\n",
       "    }\n",
       "</style>\n",
       "<table border=\"1\" class=\"dataframe\">\n",
       "  <thead>\n",
       "    <tr style=\"text-align: right;\">\n",
       "      <th></th>\n",
       "      <th>Open</th>\n",
       "      <th>High</th>\n",
       "      <th>Low</th>\n",
       "      <th>Close</th>\n",
       "      <th>Volume</th>\n",
       "      <th>Ex-Dividend</th>\n",
       "      <th>Split Ratio</th>\n",
       "      <th>Adj. Open</th>\n",
       "      <th>Adj. High</th>\n",
       "      <th>Adj. Low</th>\n",
       "      <th>Adj. Close</th>\n",
       "      <th>Adj. Volume</th>\n",
       "    </tr>\n",
       "  </thead>\n",
       "  <tbody>\n",
       "    <tr>\n",
       "      <th>count</th>\n",
       "      <td>503.000000</td>\n",
       "      <td>503.000000</td>\n",
       "      <td>503.000000</td>\n",
       "      <td>503.000000</td>\n",
       "      <td>5.030000e+02</td>\n",
       "      <td>503.0</td>\n",
       "      <td>503.0</td>\n",
       "      <td>503.000000</td>\n",
       "      <td>503.000000</td>\n",
       "      <td>503.000000</td>\n",
       "      <td>503.000000</td>\n",
       "      <td>5.030000e+02</td>\n",
       "    </tr>\n",
       "    <tr>\n",
       "      <th>mean</th>\n",
       "      <td>261.940498</td>\n",
       "      <td>265.711426</td>\n",
       "      <td>257.758385</td>\n",
       "      <td>261.808254</td>\n",
       "      <td>5.434061e+06</td>\n",
       "      <td>0.0</td>\n",
       "      <td>1.0</td>\n",
       "      <td>261.940498</td>\n",
       "      <td>265.711426</td>\n",
       "      <td>257.758385</td>\n",
       "      <td>261.808254</td>\n",
       "      <td>5.434061e+06</td>\n",
       "    </tr>\n",
       "    <tr>\n",
       "      <th>std</th>\n",
       "      <td>61.763626</td>\n",
       "      <td>62.120974</td>\n",
       "      <td>61.021024</td>\n",
       "      <td>61.638323</td>\n",
       "      <td>2.814107e+06</td>\n",
       "      <td>0.0</td>\n",
       "      <td>0.0</td>\n",
       "      <td>61.763626</td>\n",
       "      <td>62.120974</td>\n",
       "      <td>61.021024</td>\n",
       "      <td>61.638323</td>\n",
       "      <td>2.814107e+06</td>\n",
       "    </tr>\n",
       "    <tr>\n",
       "      <th>min</th>\n",
       "      <td>142.320000</td>\n",
       "      <td>154.970000</td>\n",
       "      <td>141.050000</td>\n",
       "      <td>143.670000</td>\n",
       "      <td>1.659530e+06</td>\n",
       "      <td>0.0</td>\n",
       "      <td>1.0</td>\n",
       "      <td>142.320000</td>\n",
       "      <td>154.970000</td>\n",
       "      <td>141.050000</td>\n",
       "      <td>143.670000</td>\n",
       "      <td>1.659530e+06</td>\n",
       "    </tr>\n",
       "    <tr>\n",
       "      <th>25%</th>\n",
       "      <td>209.100000</td>\n",
       "      <td>212.900000</td>\n",
       "      <td>206.025000</td>\n",
       "      <td>208.705000</td>\n",
       "      <td>3.618480e+06</td>\n",
       "      <td>0.0</td>\n",
       "      <td>1.0</td>\n",
       "      <td>209.100000</td>\n",
       "      <td>212.900000</td>\n",
       "      <td>206.025000</td>\n",
       "      <td>208.705000</td>\n",
       "      <td>3.618480e+06</td>\n",
       "    </tr>\n",
       "    <tr>\n",
       "      <th>50%</th>\n",
       "      <td>246.260000</td>\n",
       "      <td>250.070000</td>\n",
       "      <td>243.000000</td>\n",
       "      <td>246.870000</td>\n",
       "      <td>4.776383e+06</td>\n",
       "      <td>0.0</td>\n",
       "      <td>1.0</td>\n",
       "      <td>246.260000</td>\n",
       "      <td>250.070000</td>\n",
       "      <td>243.000000</td>\n",
       "      <td>246.870000</td>\n",
       "      <td>4.776383e+06</td>\n",
       "    </tr>\n",
       "    <tr>\n",
       "      <th>75%</th>\n",
       "      <td>317.270000</td>\n",
       "      <td>321.760000</td>\n",
       "      <td>312.840000</td>\n",
       "      <td>317.420000</td>\n",
       "      <td>6.461020e+06</td>\n",
       "      <td>0.0</td>\n",
       "      <td>1.0</td>\n",
       "      <td>317.270000</td>\n",
       "      <td>321.760000</td>\n",
       "      <td>312.840000</td>\n",
       "      <td>317.420000</td>\n",
       "      <td>6.461020e+06</td>\n",
       "    </tr>\n",
       "    <tr>\n",
       "      <th>max</th>\n",
       "      <td>386.690000</td>\n",
       "      <td>389.610000</td>\n",
       "      <td>379.345000</td>\n",
       "      <td>385.000000</td>\n",
       "      <td>2.374241e+07</td>\n",
       "      <td>0.0</td>\n",
       "      <td>1.0</td>\n",
       "      <td>386.690000</td>\n",
       "      <td>389.610000</td>\n",
       "      <td>379.345000</td>\n",
       "      <td>385.000000</td>\n",
       "      <td>2.374241e+07</td>\n",
       "    </tr>\n",
       "  </tbody>\n",
       "</table>\n",
       "</div>"
      ],
      "text/plain": [
       "             Open        High         Low       Close        Volume  \\\n",
       "count  503.000000  503.000000  503.000000  503.000000  5.030000e+02   \n",
       "mean   261.940498  265.711426  257.758385  261.808254  5.434061e+06   \n",
       "std     61.763626   62.120974   61.021024   61.638323  2.814107e+06   \n",
       "min    142.320000  154.970000  141.050000  143.670000  1.659530e+06   \n",
       "25%    209.100000  212.900000  206.025000  208.705000  3.618480e+06   \n",
       "50%    246.260000  250.070000  243.000000  246.870000  4.776383e+06   \n",
       "75%    317.270000  321.760000  312.840000  317.420000  6.461020e+06   \n",
       "max    386.690000  389.610000  379.345000  385.000000  2.374241e+07   \n",
       "\n",
       "       Ex-Dividend  Split Ratio   Adj. Open   Adj. High    Adj. Low  \\\n",
       "count        503.0        503.0  503.000000  503.000000  503.000000   \n",
       "mean           0.0          1.0  261.940498  265.711426  257.758385   \n",
       "std            0.0          0.0   61.763626   62.120974   61.021024   \n",
       "min            0.0          1.0  142.320000  154.970000  141.050000   \n",
       "25%            0.0          1.0  209.100000  212.900000  206.025000   \n",
       "50%            0.0          1.0  246.260000  250.070000  243.000000   \n",
       "75%            0.0          1.0  317.270000  321.760000  312.840000   \n",
       "max            0.0          1.0  386.690000  389.610000  379.345000   \n",
       "\n",
       "       Adj. Close   Adj. Volume  \n",
       "count  503.000000  5.030000e+02  \n",
       "mean   261.808254  5.434061e+06  \n",
       "std     61.638323  2.814107e+06  \n",
       "min    143.670000  1.659530e+06  \n",
       "25%    208.705000  3.618480e+06  \n",
       "50%    246.870000  4.776383e+06  \n",
       "75%    317.420000  6.461020e+06  \n",
       "max    385.000000  2.374241e+07  "
      ]
     },
     "execution_count": 34,
     "metadata": {},
     "output_type": "execute_result"
    }
   ],
   "source": [
    "tesla_data.describe()"
   ]
  },
  {
   "cell_type": "markdown",
   "metadata": {},
   "source": [
    "Ok, at a first glance the data looks fine. Let's therefore save it to your local directory using the `to_csv()` function of the `pandas` library:"
   ]
  },
  {
   "cell_type": "code",
   "execution_count": 35,
   "metadata": {},
   "outputs": [],
   "source": [
    "tesla_data.to_csv('sample_tesla_data_daily.csv', sep=';', encoding='utf-8')"
   ]
  },
  {
   "cell_type": "markdown",
   "metadata": {},
   "source": [
    "Let's continue with the **Alphabet Inc.** data prepared. In order to get a specific column of a pandas dataframe we can column-slice it to just get the daily adjusted closing price data like this:"
   ]
  },
  {
   "cell_type": "code",
   "execution_count": 36,
   "metadata": {},
   "outputs": [],
   "source": [
    "alphabet_closing = alphabet_data['Adj. Close']"
   ]
  },
  {
   "cell_type": "markdown",
   "metadata": {},
   "source": [
    "Let's inspect the top 5 rows of the sliced data: "
   ]
  },
  {
   "cell_type": "code",
   "execution_count": 37,
   "metadata": {},
   "outputs": [
    {
     "data": {
      "text/plain": [
       "0    778.01\n",
       "1    759.44\n",
       "2    761.53\n",
       "3    759.33\n",
       "4    741.00\n",
       "Name: Adj. Close, dtype: float64"
      ]
     },
     "execution_count": 37,
     "metadata": {},
     "output_type": "execute_result"
    }
   ],
   "source": [
    "alphabet_closing.head(5)"
   ]
  },
  {
   "cell_type": "markdown",
   "metadata": {},
   "source": [
    "Ok, great we actually got two columns (1) the index 'Date' of the DataFrame as well as (2) the data column 'Adj. Close' price that we asked for. "
   ]
  },
  {
   "cell_type": "markdown",
   "metadata": {},
   "source": [
    "Let's now plot the date vs. the adjusted closing prices. But before doing so we need to be able to disentangle the index from the data. This can be accomplished by the `.index` function that will return the index of a given DataFrame as well as the `.values` function that will return the actual data (excl. the index) of a given DataFrame. We will use both commands to specify the X and Y coordinates of the plot:"
   ]
  },
  {
   "cell_type": "code",
   "execution_count": 38,
   "metadata": {},
   "outputs": [
    {
     "data": {
      "image/png": "[encoded data removed]",
      "text/plain": [
       "<Figure size 432x288 with 1 Axes>"
      ]
     },
     "metadata": {
      "needs_background": "light"
     },
     "output_type": "display_data"
    }
   ],
   "source": [
    "# plot both sample results\n",
    "plt.plot(alphabet_closing.index, alphabet_closing.values)\n",
    "\n",
    "# add x-axis and y-axis label \n",
    "plt.xlabel('Time')\n",
    "plt.ylabel('Closing Price')\n",
    "\n",
    "# add plot title\n",
    "plt.title('Alphabet Inc. Daily Adjusted Closing Price');"
   ]
  },
  {
   "cell_type": "markdown",
   "metadata": {},
   "source": [
    "We can furthorme use the `.values` function to obtain statistics of individual columns of a DataFrame. Let's get some further statistics (mean and standard deviation) of the Tesla Inc. daily adjusted closing price data:"
   ]
  },
  {
   "cell_type": "code",
   "execution_count": 39,
   "metadata": {},
   "outputs": [
    {
     "data": {
      "text/plain": [
       "850.760810139165"
      ]
     },
     "execution_count": 39,
     "metadata": {},
     "output_type": "execute_result"
    }
   ],
   "source": [
    "np.mean(alphabet_closing.values)"
   ]
  },
  {
   "cell_type": "code",
   "execution_count": 40,
   "metadata": {},
   "outputs": [
    {
     "data": {
      "text/plain": [
       "106.01762367490696"
      ]
     },
     "execution_count": 40,
     "metadata": {},
     "output_type": "execute_result"
    }
   ],
   "source": [
    "np.std(alphabet_closing.values)"
   ]
  },
  {
   "cell_type": "markdown",
   "metadata": {},
   "source": [
    "### 7. Obtaining Returns from Prices"
   ]
  },
  {
   "cell_type": "markdown",
   "metadata": {},
   "source": [
    "When analyzing stock market data we are often also interested in the return $r_t$ of a financial instrument over a certain time frame:"
   ]
  },
  {
   "cell_type": "markdown",
   "metadata": {},
   "source": [
    "$$R_t=\\frac{V_{f}-V_{i}}{V_{i}}$$"
   ]
  },
  {
   "cell_type": "markdown",
   "metadata": {},
   "source": [
    "where:\n",
    "\n",
    "- $V_{f}$ denotes the financial instruments final value, including dividends and interest\n",
    "- $V_{i}$ denotes the financial instruments initial value\n",
    "\n",
    "The `Pandas` data science library provides us with a variety of functions that come quite \"handy\" when analyzing such data. To determine the daily return $r_t$ we may, for example, utilize Pandas `pct_change` function:"
   ]
  },
  {
   "cell_type": "code",
   "execution_count": 41,
   "metadata": {},
   "outputs": [],
   "source": [
    "alphabet_returns = alphabet_closing.pct_change()"
   ]
  },
  {
   "cell_type": "markdown",
   "metadata": {},
   "source": [
    "Let's inspect the calculated returns: "
   ]
  },
  {
   "cell_type": "code",
   "execution_count": 42,
   "metadata": {},
   "outputs": [
    {
     "data": {
      "text/plain": [
       "0         NaN\n",
       "1   -0.023869\n",
       "2    0.002752\n",
       "3   -0.002889\n",
       "4   -0.024140\n",
       "Name: Adj. Close, dtype: float64"
      ]
     },
     "execution_count": 42,
     "metadata": {},
     "output_type": "execute_result"
    }
   ],
   "source": [
    "alphabet_returns.head(5)"
   ]
  },
  {
   "cell_type": "markdown",
   "metadata": {},
   "source": [
    "Notice, how we drop the first element after doing this, as it will be `NaN`."
   ]
  },
  {
   "cell_type": "code",
   "execution_count": 43,
   "metadata": {},
   "outputs": [],
   "source": [
    "alphabet_returns = alphabet_returns[1:]"
   ]
  },
  {
   "cell_type": "markdown",
   "metadata": {},
   "source": [
    "And inspect the returns data again:"
   ]
  },
  {
   "cell_type": "code",
   "execution_count": 44,
   "metadata": {},
   "outputs": [
    {
     "data": {
      "text/plain": [
       "1   -0.023869\n",
       "2    0.002752\n",
       "3   -0.002889\n",
       "4   -0.024140\n",
       "5   -0.013617\n",
       "Name: Adj. Close, dtype: float64"
      ]
     },
     "execution_count": 44,
     "metadata": {},
     "output_type": "execute_result"
    }
   ],
   "source": [
    "alphabet_returns.head(5)"
   ]
  },
  {
   "cell_type": "markdown",
   "metadata": {},
   "source": [
    "Let's now plot the distribution of daily returns as a histogram:"
   ]
  },
  {
   "cell_type": "code",
   "execution_count": 45,
   "metadata": {},
   "outputs": [
    {
     "data": {
      "image/png": "[encoded data removed]",
      "text/plain": [
       "<Figure size 432x288 with 1 Axes>"
      ]
     },
     "metadata": {
      "needs_background": "light"
     },
     "output_type": "display_data"
    }
   ],
   "source": [
    "# plot histogram of returns\n",
    "plt.hist(alphabet_returns, bins=20)\n",
    "\n",
    "# add x-axis and y-axis label \n",
    "plt.xlabel('Return')\n",
    "plt.ylabel('Frequency')\n",
    "\n",
    "# add plot title\n",
    "plt.title('Alphabet Inc. Adjusted Daily Returns');"
   ]
  },
  {
   "cell_type": "markdown",
   "metadata": {},
   "source": [
    "Let's again get statistics on the real daily return data:"
   ]
  },
  {
   "cell_type": "code",
   "execution_count": 46,
   "metadata": {},
   "outputs": [
    {
     "data": {
      "text/plain": [
       "0.0006673122995942695"
      ]
     },
     "execution_count": 46,
     "metadata": {},
     "output_type": "execute_result"
    }
   ],
   "source": [
    "np.mean(alphabet_returns)"
   ]
  },
  {
   "cell_type": "code",
   "execution_count": 47,
   "metadata": {},
   "outputs": [
    {
     "data": {
      "text/plain": [
       "0.011249996879119295"
      ]
     },
     "execution_count": 47,
     "metadata": {},
     "output_type": "execute_result"
    }
   ],
   "source": [
    "np.std(alphabet_returns)"
   ]
  },
  {
   "cell_type": "markdown",
   "metadata": {},
   "source": [
    "Let's generate data out of a normal distribution using the statistics we estimated from the daily returns of the Tesla stock. We'll see that we have good reason to suspect the Tesla returns may not be normally distributed, as the resulting normal distribution looks far different."
   ]
  },
  {
   "cell_type": "code",
   "execution_count": 48,
   "metadata": {},
   "outputs": [
    {
     "data": {
      "image/png": "[encoded data removed]",
      "text/plain": [
       "<Figure size 432x288 with 1 Axes>"
      ]
     },
     "metadata": {
      "needs_background": "light"
     },
     "output_type": "display_data"
    }
   ],
   "source": [
    "# plot histogram of randomly sampled returns\n",
    "plt.hist(np.random.normal(np.mean(alphabet_returns), np.std(alphabet_returns), 10000), bins=20)\n",
    "\n",
    "# add x-axis and y-axis label \n",
    "plt.xlabel('Return')\n",
    "plt.ylabel('Frequency')\n",
    "\n",
    "# add plot title\n",
    "plt.title('Alphabet Inc. Adjusted Daily Returns (Normal)');"
   ]
  },
  {
   "cell_type": "markdown",
   "metadata": {},
   "source": [
    "### 8. Generating a Moving Average "
   ]
  },
  {
   "cell_type": "markdown",
   "metadata": {},
   "source": [
    "When analyzing stock market data we are often also interested calculating so called \"rolling statistics\" e.g. a 90- or 200-day moving average. Again the `Pandas` is offering some great functions that allow us to generate such rolling statistics. Here's an example. Notice how there's no moving average for the first 30 days, as we don't have 90 days before we can determine the first value:"
   ]
  },
  {
   "cell_type": "code",
   "execution_count": 49,
   "metadata": {},
   "outputs": [],
   "source": [
    "# determine the rolling average of the last 90 days\n",
    "alphabet_moving_average = alphabet_closing.rolling(window=90, center=False).mean()"
   ]
  },
  {
   "cell_type": "markdown",
   "metadata": {},
   "source": [
    "Let's plot the obtained moving averages."
   ]
  },
  {
   "cell_type": "code",
   "execution_count": 50,
   "metadata": {},
   "outputs": [
    {
     "data": {
      "image/png": "[encoded data removed]",
      "text/plain": [
       "<Figure size 432x288 with 1 Axes>"
      ]
     },
     "metadata": {
      "needs_background": "light"
     },
     "output_type": "display_data"
    }
   ],
   "source": [
    "# plot quarterly returns\n",
    "plt.plot(alphabet_closing.index, alphabet_closing.values)\n",
    "\n",
    "# plot moving averages quarterly returns\n",
    "plt.plot(alphabet_moving_average.index, alphabet_moving_average.values)\n",
    "\n",
    "# add x-axis and y-axis label \n",
    "plt.xlabel('Return')\n",
    "plt.ylabel('Price')\n",
    "\n",
    "# add plot legend\n",
    "plt.legend(['Return', '90-day MAVG']);\n",
    "\n",
    "# add plot title\n",
    "plt.title('Alphabet Inc. Returns vs. Moving Average Returns');"
   ]
  },
  {
   "cell_type": "markdown",
   "metadata": {},
   "source": [
    "### Lab Assignments:"
   ]
  },
  {
   "cell_type": "markdown",
   "metadata": {},
   "source": [
    "We recommend you to try the following exercises after the lab:\n",
    "\n",
    "**1. Registration for a quandl API key ( https://www.quandl.com/ ).** \n",
    "\n",
    "Visit the quandl webpage (https://www.quandl.com/) and sign up for an **Academic** account (indicating that you will use the data solely in an academic environment). Once you did register you will receive an API key that can be used to download financial data provided by Quandl. The API key will be displayed under Account Settings -> API key. Store the key safely since we will use it several times throughout the upcoming labs.\n",
    "\n",
    "**2. Download financial data using the Quandl API, `ql.get(..., collapse=...)`.**\n",
    "\n",
    "Research the quandl API and download the daily closing prices (instead of the quarterly) of the three following stocks: Netflix, Facebook and Snapchat. Retrieve the stocks daily closing prices starting from 01/01/2010 till 31/12/2017 today as a pandas DataFrame.\n",
    "\n",
    "**3. Visualise financial data using the Matplotlib library, `plt.plot(...)`and `plt.hist(...)`.**\n",
    "\n",
    "Visualize the downloaded data by plotting the adjusted daily closing prices 'Adj. Close' of the three stocks vs. time as (1) a single plot for each stock respectively as well as (2) a single plot containing the adjusted daily closing prices of all three stocks.\n",
    "\n",
    "**4. Analyse financial data using the pandas library, `data.rolling(..., window=...)`.**\n",
    "\n",
    "For each stock calculate the rolling daily moving averages of the adjusted daily closing prices using a time window of 30 and 90 days. For each stock plot the adjusted daily closing price as well as the 30- and 90-day moving average. \n",
    "\n",
    "Inspect the created plots thoroughly and conclude which stock you would recommend to buy. Document your recommendation in a markdown cell of your notebook as well as the reason / rationale behind it. "
   ]
  },
  {
   "cell_type": "markdown",
   "metadata": {},
   "source": [
    "### Lab Summary:"
   ]
  },
  {
   "cell_type": "markdown",
   "metadata": {},
   "source": [
    "In this initial lab, a step by step introduction into some basic concepts of analyzing financial data using Jupyter notebooks are presented. The code and exercises presented in this lab may serves as a starting point for more complex and tailored analytics. "
   ]
  },
  {
   "cell_type": "markdown",
   "metadata": {},
   "source": [
    "You may want to execute the content of your lab outside of the Jupyter notebook environment e.g. on a compute node or a server. The cell below converts the lab notebook into a standalone and executable python script."
   ]
  },
  {
   "cell_type": "code",
   "execution_count": 51,
   "metadata": {},
   "outputs": [
    {
     "name": "stdout",
     "output_type": "stream",
     "text": [
      "[NbConvertApp] Converting notebook cfds_lab_01.ipynb to script\n",
      "[NbConvertApp] Writing 17926 bytes to cfds_lab_01.py\n"
     ]
    }
   ],
   "source": [
    "!jupyter nbconvert --to script cfds_lab_01.ipynb"
   ]
  },
  {
   "cell_type": "code",
   "execution_count": null,
   "metadata": {},
   "outputs": [],
   "source": []
  }
 ],
 "metadata": {
  "kernelspec": {
   "display_name": "Python 3",
   "language": "python",
   "name": "python3"
  },
  "language_info": {
   "codemirror_mode": {
    "name": "ipython",
    "version": 3
   },
   "file_extension": ".py",
   "mimetype": "text/x-python",
   "name": "python",
   "nbconvert_exporter": "python",
   "pygments_lexer": "ipython3",
   "version": "3.7.0"
  }
 },
 "nbformat": 4,
 "nbformat_minor": 2
}
